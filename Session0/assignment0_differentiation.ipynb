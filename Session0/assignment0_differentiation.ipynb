{
 "cells": [
  {
   "cell_type": "markdown",
   "metadata": {},
   "source": [
    "# Differentiation "
   ]
  },
  {
   "cell_type": "markdown",
   "metadata": {},
   "source": [
    "Since it easy to google every task please please please try to undestand what's going on. The \"just answer\" thing will be not counted, make sure to present derivation of your solution. It is absolutely OK if you found an answer on web then just exercise in $\\LaTeX$ copying it into here."
   ]
  },
  {
   "cell_type": "markdown",
   "metadata": {},
   "source": [
    "Useful links: \n",
    "[1](http://www.machinelearning.ru/wiki/images/2/2a/Matrix-Gauss.pdf)\n",
    "[2](http://www.atmos.washington.edu/~dennis/MatrixCalculus.pdf)"
   ]
  },
  {
   "cell_type": "markdown",
   "metadata": {},
   "source": [
    "## ex. 1"
   ]
  },
  {
   "cell_type": "markdown",
   "metadata": {},
   "source": [
    "$$  \n",
    "y = x^Tx,  \\quad x \\in \\mathbb{R}^N \n",
    "$$"
   ]
  },
  {
   "cell_type": "markdown",
   "metadata": {},
   "source": [
    "$$\n",
    "\\frac{\\partial y}{\\partial x} = ?\n",
    "$$"
   ]
  },
  {
   "cell_type": "markdown",
   "metadata": {},
   "source": [
    "$$  \n",
    "y = \\sum_{i=1}^{N} x_{i}^2\\\\\n",
    "$$\n",
    "\n",
    "$$\n",
    "\\frac{\\partial y}{\\partial x_{j}} = \n",
    "\\frac{\\partial \\sum_{i=1}^{N} x_{i}^2}{\\partial x_{j}} =\n",
    "\\sum_{i=1}^{N} \\frac{\\partial x_{i}^2}{\\partial x_{j}} =\n",
    "\\frac{\\partial x_{j}^{2}}{\\partial x_{j}} + \n",
    "\\sum_{i=1\\\\ i\\ne j}^{N} \\frac{\\partial x_{i}^2}{\\partial x_{j}} =\n",
    "2x_{j} + \\sum_{i=1\\\\ i\\ne j}^{N} 0 =\n",
    "2x_{j}\\\\\n",
    "$$\n",
    "\n",
    "$$\n",
    "\\frac{\\partial y}{\\partial x} = \n",
    "\\begin{pmatrix} \n",
    "\\frac{\\partial y}{\\partial x_{1}}\\\\\n",
    "\\frac{\\partial y}{\\partial x_{2}}\\\\\n",
    "\\vdots\\\\\n",
    "\\frac{\\partial y}{\\partial x_{N}}\n",
    "\\end{pmatrix} =\n",
    "\\begin{pmatrix} \n",
    "2x_{1}\\\\2x_{2}\\\\\\vdots\\\\2x_{N}\\\\\n",
    "\\end{pmatrix} = \n",
    "2x\n",
    "$$"
   ]
  },
  {
   "cell_type": "markdown",
   "metadata": {},
   "source": [
    "## ex. 2"
   ]
  },
  {
   "cell_type": "markdown",
   "metadata": {},
   "source": [
    "$$ y = tr(AB) \\quad A,B \\in \\mathbb{R}^{N \\times N} $$ "
   ]
  },
  {
   "cell_type": "markdown",
   "metadata": {},
   "source": [
    "$$\n",
    "\\frac{\\partial}{\\partial a_{ij}} y = ?\n",
    "$$\n",
    "\n",
    "$$\n",
    "\\frac{dy}{dA} = ?\n",
    "$$"
   ]
  },
  {
   "cell_type": "markdown",
   "metadata": {},
   "source": [
    "$$\n",
    "y = \n",
    "\\sum_{i=1}^{N}\\sum_{j=1}^{N} a_{ij}b_{ji}\\\\\n",
    "$$\n",
    "\n",
    "$$\n",
    "\\frac{\\partial y}{\\partial a_{ij}} =\n",
    "b_{ji}\n",
    "$$\n",
    "\n",
    "$$\n",
    "\\frac{dy}{dA} =\n",
    "\\begin{pmatrix} \n",
    "b_{11} & b_{21} & \\cdots & b_{N1}\\\\\n",
    "b_{12} & b_{22} & \\cdots & b_{N2}\\\\\n",
    "\\vdots & \\vdots & \\ddots & \\vdots\\\\\n",
    "b_{1N} & b_{2N} & \\cdots & b_{NN}\\\\\n",
    "\\end{pmatrix} = B^T\n",
    "$$"
   ]
  },
  {
   "cell_type": "markdown",
   "metadata": {},
   "source": [
    "## ex. 3"
   ]
  },
  {
   "cell_type": "markdown",
   "metadata": {},
   "source": [
    "$$  \n",
    "y = x^TAc , \\quad A\\in \\mathbb{R}^{N \\times N}, x\\in \\mathbb{R}^{N}, c\\in \\mathbb{R}^{N} \n",
    "$$"
   ]
  },
  {
   "cell_type": "markdown",
   "metadata": {},
   "source": [
    "$$\n",
    "\\frac{dy}{dA} = ?\n",
    "$$ "
   ]
  },
  {
   "cell_type": "markdown",
   "metadata": {},
   "source": [
    "$$\n",
    "y = \\sum_{i=1}^{N}\\sum_{j=1}^{N}x_{i}a_{ij}c_{j}\n",
    "$$\n",
    "\n",
    "$$\n",
    "\\frac {\\partial{y}}{\\partial{a_{ij}}} =\n",
    "{x_{i}c_{j}}\n",
    "$$\n",
    "\n",
    "$$\n",
    "\\frac {dy}{dA} = \n",
    "\\begin{pmatrix} \n",
    "\\frac {\\partial{y}}{\\partial{a_{11}}} &\n",
    "\\frac {\\partial{y}}{\\partial{a_{12}}} &\n",
    "\\cdots & \\frac {\\partial{y}}{\\partial{a_{1N}}}\\\\\n",
    "\\frac {\\partial{y}}{\\partial{a_{21}}} &\n",
    "\\frac {\\partial{y}}{\\partial{a_{22}}} &\n",
    "\\cdots & \\frac {\\partial{y}}{\\partial{a_{2N}}}\\\\\n",
    "\\vdots & \\vdots & \\ddots & \\vdots\\\\\n",
    "\\frac {\\partial{y}}{\\partial{a_{N1}}} &\n",
    "\\frac {\\partial{y}}{\\partial{a_{N2}}} &\n",
    "\\cdots & \\frac {\\partial{y}}{\\partial{a_{NN}}}\\\\\n",
    "\\end{pmatrix} = \n",
    "\\begin{pmatrix} \n",
    "x_{1}c_{1} & x_{1}c_{2} & \\cdots & x_{1}c_{N}\\\\\n",
    "x_{2}c_{1} & x_{2}c_{2} & \\cdots & x_{2}c_{N}\\\\\n",
    "\\vdots & \\vdots & \\ddots & \\vdots\\\\\n",
    "x_{N}c_{1} & x_{N}c_{2} & \\cdots & x_{N}c_{N}\\\\\n",
    "\\end{pmatrix} = \n",
    "cx^T\n",
    "$$"
   ]
  },
  {
   "cell_type": "markdown",
   "metadata": {},
   "source": [
    "## ex. 4"
   ]
  },
  {
   "cell_type": "markdown",
   "metadata": {},
   "source": [
    "Classic matrix factorization example. Given matrix $X$ you need to find $A$, $S$ to approximate $X$. This can be done by simple gradient descent iteratively alternating $A$ and $S$ updates.\n",
    "$$\n",
    "J = || X - AS ||_2^2  , \\quad A\\in \\mathbb{R}^{N \\times R} , \\quad S\\in \\mathbb{R}^{R \\times M}\n",
    "$$"
   ]
  },
  {
   "cell_type": "markdown",
   "metadata": {},
   "source": [
    "$$\n",
    "\\frac{dJ}{dS} = ?\n",
    "$$"
   ]
  },
  {
   "cell_type": "markdown",
   "metadata": {},
   "source": [
    "### First approach\n",
    "Using ex.2 and the fact:\n",
    "$$\n",
    "|| X ||_2^2 = tr(XX^T) \n",
    "$$ \n",
    "it is easy to derive gradients (you can find it in one of the refs). "
   ]
  },
  {
   "cell_type": "markdown",
   "metadata": {},
   "source": [
    "### Second approach\n",
    "And finally we can use chain rule! **YOUR TURN** to do it.\n",
    "let $ F = AS $ \n",
    "\n",
    "**Find**"
   ]
  },
  {
   "cell_type": "markdown",
   "metadata": {},
   "source": [
    "$$\n",
    "\\frac{dJ}{dF} = ?\n",
    "$$ "
   ]
  },
  {
   "cell_type": "markdown",
   "metadata": {},
   "source": [
    "$$\n",
    "J = ||X - F||_2^2 = \n",
    "tr((X - F)(X - F)^T) \n",
    "$$\n",
    "\n",
    "$$\n",
    "\\frac {dJ}{dF}tr((X - F)(X - F)^T) =\n",
    "((X - F)^T)^T = X - F\n",
    "$$"
   ]
  },
  {
   "cell_type": "markdown",
   "metadata": {},
   "source": [
    "and \n",
    "$$\n",
    "\\frac{dF}{dS} = ?\n",
    "$$ \n",
    "(the shape should be $ NM \\times RM )$."
   ]
  },
  {
   "cell_type": "markdown",
   "metadata": {},
   "source": [
    "$$\n",
    "A_{ij} = \n",
    "\\begin{pmatrix}\n",
    "a_{ij} & 0 & \\cdots & 0\\\\\n",
    "0 & 0 & \\cdots & 0\\\\\n",
    "\\vdots & \\vdots & \\ddots & \\vdots\\\\\n",
    "0 & 0 & \\cdots & 0\\\\\n",
    "\\end{pmatrix}\n",
    "\\in \\mathbb{R}^{M \\times M}\n",
    "$$\n",
    "\n",
    "$$\n",
    "\\frac {dF}{dS} =\n",
    "\\begin{pmatrix}\n",
    "A_{11} & A_{21} & \\cdots & A_{N1}\\\\\n",
    "A_{12} & A_{22} & \\cdots & A_{N2}\\\\\n",
    "\\vdots & \\vdots & \\ddots & \\vdots\\\\\n",
    "A_{1N} & A_{2N} & \\cdots & A_{NN}\\\\\n",
    "\\end{pmatrix}\n",
    "\\in \\mathbb{R}^{NM \\times RM}\n",
    "$$"
   ]
  },
  {
   "cell_type": "markdown",
   "metadata": {},
   "source": [
    "Now it is easy do get desired gradients:\n",
    "$$\n",
    "\\frac{dJ}{dS} = ?\n",
    "$$ "
   ]
  },
  {
   "cell_type": "markdown",
   "metadata": {},
   "source": [
    "$$\n",
    "\\frac {dJ}{dS} = \n",
    "A^T(X - F)\n",
    "$$"
   ]
  }
 ],
 "metadata": {
  "kernelspec": {
   "display_name": "Python 3",
   "language": "python",
   "name": "python3"
  },
  "language_info": {
   "codemirror_mode": {
    "name": "ipython",
    "version": 3
   },
   "file_extension": ".py",
   "mimetype": "text/x-python",
   "name": "python",
   "nbconvert_exporter": "python",
   "pygments_lexer": "ipython3",
   "version": "3.8.3"
  }
 },
 "nbformat": 4,
 "nbformat_minor": 4
}
