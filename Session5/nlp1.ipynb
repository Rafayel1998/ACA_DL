{
 "cells": [
  {
   "cell_type": "markdown",
   "metadata": {},
   "source": [
    "# Large scale text analysis with deep learning\n",
    "\n",
    "Today we're gonna apply the newly learned tools for the task of predicting job salary.\n",
    "\n",
    "<img src=\"https://storage.googleapis.com/kaggle-competitions/kaggle/3342/media/salary%20prediction%20engine%20v2.png\" width=400px>\n",
    "\n",
    "_Special thanks to [Oleg Vasilev](https://github.com/Omrigan/) for the core assignment idea._"
   ]
  },
  {
   "cell_type": "code",
   "execution_count": 1,
   "metadata": {},
   "outputs": [
    {
     "name": "stdout",
     "output_type": "stream",
     "text": [
      "[PhysicalDevice(name='/physical_device:GPU:0', device_type='GPU')]\n"
     ]
    }
   ],
   "source": [
    "import os\n",
    "import numpy as np\n",
    "import pandas as pd\n",
    "import matplotlib.pyplot as plt\n",
    "%matplotlib inline\n",
    "import tensorflow as tf\n",
    "\n",
    "os.environ[\"CUDA_DEVICE_ORDER\"] = \"PCI_BUS_ID\"\n",
    "os.environ['CUDA_VISIBLE_DEVICES'] = \"0\"\n",
    "gpus = tf.config.experimental.list_physical_devices(\"GPU\")\n",
    "print(gpus)\n",
    "if len(gpus) > 0:\n",
    "    tf.config.experimental.set_memory_growth(gpus[0], True)"
   ]
  },
  {
   "cell_type": "markdown",
   "metadata": {},
   "source": [
    "### About the challenge\n",
    "For starters, let's download and unpack the data from [here](https://www.dropbox.com/s/5msc5ix7ndyba10/Train_rev1.csv.tar.gz?dl=0). \n",
    "\n",
    "You can also get it from [yadisk url](https://yadi.sk/d/vVEOWPFY3NruT7) the competition [page](https://www.kaggle.com/c/job-salary-prediction/data) (pick `Train_rev1.*`)."
   ]
  },
  {
   "cell_type": "code",
   "execution_count": 2,
   "metadata": {},
   "outputs": [
    {
     "data": {
      "text/plain": [
       "(244768, 12)"
      ]
     },
     "execution_count": 2,
     "metadata": {},
     "output_type": "execute_result"
    }
   ],
   "source": [
    "# !curl -L https://www.dropbox.com/s/5msc5ix7ndyba10/Train_rev1.csv.tar.gz?dl=1 -o Train_rev1.csv.tar.gz\n",
    "# !tar -xvzf ./Train_rev1.csv.tar.gz\n",
    "data = pd.read_csv(\"./Train_rev1.csv\", index_col=None)\n",
    "data.shape"
   ]
  },
  {
   "cell_type": "markdown",
   "metadata": {},
   "source": [
    "One problem with salary prediction is that it's oddly distributed: there are many people who are paid standard salaries and a few that get tons o money. The distribution is fat-tailed on the right side, which is inconvenient for MSE minimization.\n",
    "\n",
    "There are several techniques to combat this: using a different loss function, predicting log-target instead of raw target or even replacing targets with their percentiles among all salaries in the training set. We gonna use logarithm for now.\n",
    "\n",
    "_You can read more [in the official description](https://www.kaggle.com/c/job-salary-prediction#description)._"
   ]
  },
  {
   "cell_type": "code",
   "execution_count": 3,
   "metadata": {},
   "outputs": [
    {
     "data": {
      "image/png": "[encoded data removed]",
      "text/plain": [
       "<Figure size 576x288 with 2 Axes>"
      ]
     },
     "metadata": {
      "needs_background": "light"
     },
     "output_type": "display_data"
    }
   ],
   "source": [
    "data['Log1pSalary'] = np.log1p(data['SalaryNormalized']).astype('float32')\n",
    "\n",
    "plt.figure(figsize=[8, 4])\n",
    "plt.subplot(1, 2, 1)\n",
    "plt.hist(data[\"SalaryNormalized\"], bins=20);\n",
    "\n",
    "plt.subplot(1, 2, 2)\n",
    "plt.hist(data['Log1pSalary'], bins=20);"
   ]
  },
  {
   "cell_type": "markdown",
   "metadata": {},
   "source": [
    "Our task is to predict one number, __Log1pSalary__.\n",
    "\n",
    "To do so, our model can access a number of features:\n",
    "* Free text: __`Title`__ and  __`FullDescription`__\n",
    "* Categorical: __`Category`__, __`Company`__, __`LocationNormalized`__, __`ContractType`__, and __`ContractTime`__."
   ]
  },
  {
   "cell_type": "code",
   "execution_count": 4,
   "metadata": {},
   "outputs": [
    {
     "data": {
      "text/html": [
       "<div>\n",
       "<style scoped>\n",
       "    .dataframe tbody tr th:only-of-type {\n",
       "        vertical-align: middle;\n",
       "    }\n",
       "\n",
       "    .dataframe tbody tr th {\n",
       "        vertical-align: top;\n",
       "    }\n",
       "\n",
       "    .dataframe thead th {\n",
       "        text-align: right;\n",
       "    }\n",
       "</style>\n",
       "<table border=\"1\" class=\"dataframe\">\n",
       "  <thead>\n",
       "    <tr style=\"text-align: right;\">\n",
       "      <th></th>\n",
       "      <th>Id</th>\n",
       "      <th>Title</th>\n",
       "      <th>FullDescription</th>\n",
       "      <th>LocationRaw</th>\n",
       "      <th>LocationNormalized</th>\n",
       "      <th>ContractType</th>\n",
       "      <th>ContractTime</th>\n",
       "      <th>Company</th>\n",
       "      <th>Category</th>\n",
       "      <th>SalaryRaw</th>\n",
       "      <th>SalaryNormalized</th>\n",
       "      <th>SourceName</th>\n",
       "      <th>Log1pSalary</th>\n",
       "    </tr>\n",
       "  </thead>\n",
       "  <tbody>\n",
       "    <tr>\n",
       "      <th>174660</th>\n",
       "      <td>71435071</td>\n",
       "      <td>Business Development Executive</td>\n",
       "      <td>This is an out and out new business role, work...</td>\n",
       "      <td>Redhill, Surrey Surrey South East</td>\n",
       "      <td>Redhill</td>\n",
       "      <td>NaN</td>\n",
       "      <td>permanent</td>\n",
       "      <td>Michael Page Sales</td>\n",
       "      <td>Sales Jobs</td>\n",
       "      <td>25000 to 30000 per annum</td>\n",
       "      <td>27500</td>\n",
       "      <td>totaljobs.com</td>\n",
       "      <td>10.221977</td>\n",
       "    </tr>\n",
       "    <tr>\n",
       "      <th>216109</th>\n",
       "      <td>72244274</td>\n",
       "      <td>HR Advisor / HR Officer, East Midlands  **** p...</td>\n",
       "      <td>Employment Law Advisor  Leicestershire, easily...</td>\n",
       "      <td>Leicestershire East Midlands</td>\n",
       "      <td>Leicestershire</td>\n",
       "      <td>NaN</td>\n",
       "      <td>permanent</td>\n",
       "      <td>Ashdown Group</td>\n",
       "      <td>HR &amp; Recruitment Jobs</td>\n",
       "      <td>22000 - 28000 per annum</td>\n",
       "      <td>25000</td>\n",
       "      <td>totaljobs.com</td>\n",
       "      <td>10.126671</td>\n",
       "    </tr>\n",
       "    <tr>\n",
       "      <th>53468</th>\n",
       "      <td>68673782</td>\n",
       "      <td>Graduate Product Assistant  ****  ****k</td>\n",
       "      <td>Graduate Product Assistant ****  **** Warwicks...</td>\n",
       "      <td>Warwickshire West Midlands</td>\n",
       "      <td>Warwickshire</td>\n",
       "      <td>NaN</td>\n",
       "      <td>permanent</td>\n",
       "      <td>Blue Skies Marketing Recruitment</td>\n",
       "      <td>Retail Jobs</td>\n",
       "      <td>17500 to 21000 per annum</td>\n",
       "      <td>19250</td>\n",
       "      <td>totaljobs.com</td>\n",
       "      <td>9.865318</td>\n",
       "    </tr>\n",
       "  </tbody>\n",
       "</table>\n",
       "</div>"
      ],
      "text/plain": [
       "              Id                                              Title  \\\n",
       "174660  71435071                     Business Development Executive   \n",
       "216109  72244274  HR Advisor / HR Officer, East Midlands  **** p...   \n",
       "53468   68673782            Graduate Product Assistant  ****  ****k   \n",
       "\n",
       "                                          FullDescription  \\\n",
       "174660  This is an out and out new business role, work...   \n",
       "216109  Employment Law Advisor  Leicestershire, easily...   \n",
       "53468   Graduate Product Assistant ****  **** Warwicks...   \n",
       "\n",
       "                              LocationRaw LocationNormalized ContractType  \\\n",
       "174660  Redhill, Surrey Surrey South East            Redhill          NaN   \n",
       "216109       Leicestershire East Midlands     Leicestershire          NaN   \n",
       "53468          Warwickshire West Midlands       Warwickshire          NaN   \n",
       "\n",
       "       ContractTime                           Company               Category  \\\n",
       "174660    permanent                Michael Page Sales             Sales Jobs   \n",
       "216109    permanent                     Ashdown Group  HR & Recruitment Jobs   \n",
       "53468     permanent  Blue Skies Marketing Recruitment            Retail Jobs   \n",
       "\n",
       "                       SalaryRaw  SalaryNormalized     SourceName  Log1pSalary  \n",
       "174660  25000 to 30000 per annum             27500  totaljobs.com    10.221977  \n",
       "216109   22000 - 28000 per annum             25000  totaljobs.com    10.126671  \n",
       "53468   17500 to 21000 per annum             19250  totaljobs.com     9.865318  "
      ]
     },
     "execution_count": 4,
     "metadata": {},
     "output_type": "execute_result"
    }
   ],
   "source": [
    "text_columns = [\"Title\", \"FullDescription\"]\n",
    "categorical_columns = [\"Category\", \"Company\", \"LocationNormalized\", \"ContractType\", \"ContractTime\"]\n",
    "target_column = \"Log1pSalary\"\n",
    "\n",
    "data[categorical_columns] = data[categorical_columns].fillna('NaN') # cast missing values to string \"NaN\"\n",
    "\n",
    "data.sample(3)"
   ]
  },
  {
   "cell_type": "markdown",
   "metadata": {},
   "source": [
    "### Preprocessing text data\n",
    "\n",
    "Just like last week, applying NLP to a problem begins from tokenization: splitting raw text into sequences of tokens (words, punctuation, etc).\n",
    "\n",
    "__Your task__ is to lowercase and tokenize all texts under `Title` and `FullDescription` columns. Store the tokenized data as a __space-separated__ string of tokens for performance reasons.\n",
    "\n",
    "It's okay to use nltk tokenizers. Assertions were designed for WordPunctTokenizer, slight deviations are okay."
   ]
  },
  {
   "cell_type": "code",
   "execution_count": 5,
   "metadata": {},
   "outputs": [
    {
     "name": "stdout",
     "output_type": "stream",
     "text": [
      "Raw text:\n",
      "2         Mathematical Modeller / Simulation Analyst / O...\n",
      "100002    A successful and high achieving specialist sch...\n",
      "200002    Web Designer  HTML, CSS, JavaScript, Photoshop...\n",
      "Name: FullDescription, dtype: object\n"
     ]
    }
   ],
   "source": [
    "print(\"Raw text:\")\n",
    "print(data[\"FullDescription\"][2::100000])"
   ]
  },
  {
   "cell_type": "code",
   "execution_count": 6,
   "metadata": {},
   "outputs": [],
   "source": [
    "import nltk\n",
    "tokenizer = nltk.tokenize.WordPunctTokenizer()\n",
    "\n",
    "# see task above\n",
    "preprocess = lambda text: ' '.join(tokenizer.tokenize(str(text).lower()))\n",
    "data[\"FullDescription\"] = list(map(preprocess, data[\"FullDescription\"]))\n",
    "data[\"Title\"] = list(map(preprocess, data[\"Title\"]))"
   ]
  },
  {
   "cell_type": "markdown",
   "metadata": {},
   "source": [
    "Now we can assume that our text is a space-separated list of tokens:"
   ]
  },
  {
   "cell_type": "code",
   "execution_count": 7,
   "metadata": {},
   "outputs": [
    {
     "name": "stdout",
     "output_type": "stream",
     "text": [
      "Tokenized:\n",
      "2         mathematical modeller / simulation analyst / o...\n",
      "100002    a successful and high achieving specialist sch...\n",
      "200002    web designer html , css , javascript , photosh...\n",
      "Name: FullDescription, dtype: object\n"
     ]
    }
   ],
   "source": [
    "print(\"Tokenized:\")\n",
    "print(data[\"FullDescription\"][2::100000])\n",
    "assert data[\"FullDescription\"][2][:50] == 'mathematical modeller / simulation analyst / opera'\n",
    "assert data[\"Title\"][54321] == 'international digital account manager ( german )'"
   ]
  },
  {
   "cell_type": "markdown",
   "metadata": {},
   "source": [
    "Not all words are equally useful. Some of them are typos or rare words that are only present a few times. \n",
    "\n",
    "Let's count how many times is each word present in the data so that we can build a \"white list\" of known words."
   ]
  },
  {
   "cell_type": "code",
   "execution_count": 8,
   "metadata": {},
   "outputs": [],
   "source": [
    "# Count how many times does each token occur in both \"Title\" and \"FullDescription\" in total\n",
    "# build a dictionary { token -> it's count }\n",
    "# task: find up to k most frequent tokens in texts_train,\n",
    "# sort them by number of occurences (highest first)\n",
    "from functools import reduce\n",
    "from collections import Counter\n",
    "\n",
    "def safe_extend(x, y):\n",
    "    if x is None:\n",
    "        return y\n",
    "    x.extend(y)\n",
    "    return x\n",
    "\n",
    "words = list(\n",
    "    reduce(\n",
    "        safe_extend,\n",
    "        map(\n",
    "            lambda x: x.split(), \n",
    "            np.concatenate([data[\"Title\"].values, data[\"FullDescription\"].values])\n",
    "       )\n",
    "    )\n",
    ")\n",
    "\n",
    "token_counts = Counter(words)\n",
    "\n",
    "# hint: you may or may not want to use collections.Counter"
   ]
  },
  {
   "cell_type": "code",
   "execution_count": 9,
   "metadata": {},
   "outputs": [
    {
     "name": "stdout",
     "output_type": "stream",
     "text": [
      "Total unique tokens : 202704\n",
      "('and', 2657388)\n",
      "('.', 2523216)\n",
      "(',', 2318606)\n",
      "('the', 2080994)\n",
      "('to', 2019884)\n",
      "...\n",
      "('stephanietraveltraderecruitmnt', 1)\n",
      "('ruabon', 1)\n",
      "('lowehays', 1)\n",
      "Correct!\n"
     ]
    }
   ],
   "source": [
    "print(\"Total unique tokens :\", len(token_counts))\n",
    "print('\\n'.join(map(str, token_counts.most_common(n=5))))\n",
    "print('...')\n",
    "print('\\n'.join(map(str, token_counts.most_common()[-3:])))\n",
    "\n",
    "assert token_counts.most_common(1)[0][1] in range(2600000, 2700000)\n",
    "assert len(token_counts) in range(200000, 210000)\n",
    "print('Correct!')"
   ]
  },
  {
   "cell_type": "code",
   "execution_count": 10,
   "metadata": {},
   "outputs": [
    {
     "data": {
      "image/png": "[encoded data removed]",
      "text/plain": [
       "<Figure size 432x288 with 1 Axes>"
      ]
     },
     "metadata": {
      "needs_background": "light"
     },
     "output_type": "display_data"
    }
   ],
   "source": [
    "# Let's see how many words are there for each count\n",
    "plt.hist(list(token_counts.values()), range=[0, 10**4], bins=50, log=True)\n",
    "plt.xlabel(\"Word counts\");"
   ]
  },
  {
   "cell_type": "markdown",
   "metadata": {},
   "source": [
    "Now filter tokens a list of all tokens that occur at least 10 times."
   ]
  },
  {
   "cell_type": "code",
   "execution_count": 11,
   "metadata": {},
   "outputs": [],
   "source": [
    "min_count = 10\n",
    "\n",
    "# tokens from token_counts keys that had at least min_count occurrences throughout the dataset\n",
    "tokens = dict(filter(lambda item: item[1] > min_count, token_counts.items()))"
   ]
  },
  {
   "cell_type": "code",
   "execution_count": 12,
   "metadata": {},
   "outputs": [
    {
     "name": "stdout",
     "output_type": "stream",
     "text": [
      "Vocabulary size: 32456\n",
      "Correct!\n"
     ]
    }
   ],
   "source": [
    "# Add a special tokens for unknown and empty words\n",
    "UNK, PAD = \"UNK\", \"PAD\"\n",
    "tokens = [UNK, PAD] + sorted(tokens)\n",
    "print(\"Vocabulary size:\", len(tokens))\n",
    "\n",
    "assert type(tokens) == list\n",
    "assert len(tokens) in range(32000, 35000)\n",
    "assert 'me' in tokens\n",
    "assert UNK in tokens\n",
    "print(\"Correct!\")"
   ]
  },
  {
   "cell_type": "markdown",
   "metadata": {},
   "source": [
    "Build an inverse token index: a dictionary from token(string) to it's index in `tokens` (int)"
   ]
  },
  {
   "cell_type": "code",
   "execution_count": 13,
   "metadata": {},
   "outputs": [],
   "source": [
    "token_to_id = dict(zip(tokens, range(len(tokens))))"
   ]
  },
  {
   "cell_type": "code",
   "execution_count": 14,
   "metadata": {},
   "outputs": [
    {
     "name": "stdout",
     "output_type": "stream",
     "text": [
      "Correct!\n"
     ]
    }
   ],
   "source": [
    "assert isinstance(token_to_id, dict)\n",
    "assert len(token_to_id) == len(tokens)\n",
    "for tok in tokens:\n",
    "    assert tokens[token_to_id[tok]] == tok\n",
    "\n",
    "print(\"Correct!\")"
   ]
  },
  {
   "cell_type": "markdown",
   "metadata": {},
   "source": [
    "And finally, let's use the vocabulary you've built to map text lines into neural network-digestible matrices."
   ]
  },
  {
   "cell_type": "code",
   "execution_count": 15,
   "metadata": {},
   "outputs": [],
   "source": [
    "UNK_IX, PAD_IX = map(token_to_id.get, [UNK, PAD])\n",
    "\n",
    "def as_matrix(sequences, max_len=None):\n",
    "    \"\"\" Convert a list of tokens into a matrix with padding \"\"\"\n",
    "    if isinstance(sequences[0], str):\n",
    "        sequences = list(map(str.split, sequences))\n",
    "        \n",
    "    max_len = min(max(map(len, sequences)), max_len or float('inf'))\n",
    "    \n",
    "    matrix = np.full((len(sequences), max_len), np.int32(PAD_IX))\n",
    "    for i,seq in enumerate(sequences):\n",
    "        row_ix = [token_to_id.get(word, UNK_IX) for word in seq[:max_len]]\n",
    "        matrix[i, :len(row_ix)] = row_ix\n",
    "    \n",
    "    return matrix"
   ]
  },
  {
   "cell_type": "code",
   "execution_count": 16,
   "metadata": {},
   "outputs": [
    {
     "name": "stdout",
     "output_type": "stream",
     "text": [
      "Lines:\n",
      "engineering systems analyst\n",
      "hr assistant\n",
      "senior ec & i engineer\n",
      "\n",
      "Matrix:\n",
      "[[10273 28655  2055     1     1]\n",
      " [14296  2700     1     1     1]\n",
      " [26272  9698    14 14484 10270]]\n"
     ]
    }
   ],
   "source": [
    "print(\"Lines:\")\n",
    "print('\\n'.join(data[\"Title\"][::100000].values), end='\\n\\n')\n",
    "print(\"Matrix:\")\n",
    "print(as_matrix(data[\"Title\"][::100000]))"
   ]
  },
  {
   "cell_type": "markdown",
   "metadata": {},
   "source": [
    "Now let's  encode the categirical data we have.\n",
    "\n",
    "As usual, we shall use one-hot encoding for simplicity. Kudos if you implement more advanced encodings: tf-idf, pseudo-time-series, etc."
   ]
  },
  {
   "cell_type": "code",
   "execution_count": 17,
   "metadata": {},
   "outputs": [
    {
     "data": {
      "text/plain": [
       "DictVectorizer(dtype=<class 'numpy.float32'>, sparse=False)"
      ]
     },
     "execution_count": 17,
     "metadata": {},
     "output_type": "execute_result"
    }
   ],
   "source": [
    "from sklearn.feature_extraction import DictVectorizer\n",
    "\n",
    "# we only consider top-1k most frequent companies to minimize memory usage\n",
    "top_companies, top_counts = zip(*Counter(data['Company']).most_common(1000))\n",
    "recognized_companies = set(top_companies)\n",
    "data[\"Company\"] = data[\"Company\"].apply(lambda comp: comp if comp in recognized_companies else \"Other\")\n",
    "\n",
    "categorical_vectorizer = DictVectorizer(dtype=np.float32, sparse=False)\n",
    "categorical_vectorizer.fit(data[categorical_columns].apply(dict, axis=1))"
   ]
  },
  {
   "cell_type": "markdown",
   "metadata": {},
   "source": [
    "### The deep learning part\n",
    "\n",
    "Once we've learned to tokenize the data, let's design a machine learning experiment.\n",
    "\n",
    "As before, we won't focus too much on validation, opting for a simple train-test split.\n",
    "\n",
    "__To be completely rigorous,__ we've comitted a small crime here: we used the whole data for tokenization and vocabulary building. A more strict way would be to do that part on training set only. You may want to do that and measure the magnitude of changes."
   ]
  },
  {
   "cell_type": "code",
   "execution_count": 18,
   "metadata": {},
   "outputs": [
    {
     "name": "stdout",
     "output_type": "stream",
     "text": [
      "Train size =  195814\n",
      "Validation size =  48954\n"
     ]
    }
   ],
   "source": [
    "from sklearn.model_selection import train_test_split\n",
    "\n",
    "data_train, data_val = train_test_split(data, test_size=0.2, random_state=42)\n",
    "data_train.index = range(len(data_train))\n",
    "data_val.index = range(len(data_val))\n",
    "\n",
    "print(\"Train size = \", len(data_train))\n",
    "print(\"Validation size = \", len(data_val))"
   ]
  },
  {
   "cell_type": "code",
   "execution_count": 19,
   "metadata": {},
   "outputs": [],
   "source": [
    "def make_batch(data, max_len=None, word_dropout=0):\n",
    "    \"\"\"\n",
    "    Creates a keras-friendly dict from the batch data.\n",
    "    :param word_dropout: replaces token index with UNK_IX with this probability\n",
    "    :returns: a dict with {'title' : int64[batch, title_max_len]\n",
    "    \"\"\"\n",
    "    batch = {}\n",
    "    batch[\"Title\"] = as_matrix(data[\"Title\"].values, max_len)\n",
    "    batch[\"FullDescription\"] = as_matrix(data[\"FullDescription\"].values, max_len)\n",
    "    batch['Categorical'] = categorical_vectorizer.transform(data[categorical_columns].apply(dict, axis=1))\n",
    "    \n",
    "    if word_dropout != 0:\n",
    "        batch[\"FullDescription\"] = apply_word_dropout(batch[\"FullDescription\"], 1. - word_dropout)\n",
    "    \n",
    "    if target_column in data.columns:\n",
    "        batch[target_column] = data[target_column].values\n",
    "    \n",
    "    return batch\n",
    "\n",
    "def apply_word_dropout(matrix, keep_prop, replace_with=UNK_IX, pad_ix=PAD_IX,):\n",
    "    dropout_mask = np.random.choice(2, np.shape(matrix), p=[keep_prop, 1 - keep_prop])\n",
    "    dropout_mask &= matrix != pad_ix\n",
    "    return np.choose(dropout_mask, [matrix, np.full_like(matrix, replace_with)])"
   ]
  },
  {
   "cell_type": "code",
   "execution_count": 20,
   "metadata": {},
   "outputs": [
    {
     "data": {
      "text/plain": [
       "{'Title': array([[26272, 28401, 31999,     1,     1,     1,     1],\n",
       "        [27772,   187, 18227, 19056, 14801, 22008,  3848],\n",
       "        [10082, 28895, 16876,    31,  8281, 27695,    61]], dtype=int32),\n",
       " 'FullDescription': array([[26272, 28401, 31999, 31307,   909, 26272, 28401, 31999, 15662,\n",
       "         31307],\n",
       "        [27772,   187, 18227, 19056, 14801, 22008,  3848, 24230,   836,\n",
       "            77],\n",
       "        [29212, 20872, 19591,  6092, 15662,  7773, 26125,   909, 28895,\n",
       "         16876]], dtype=int32),\n",
       " 'Categorical': array([[0., 0., 0., ..., 0., 0., 0.],\n",
       "        [0., 0., 0., ..., 0., 0., 0.],\n",
       "        [0., 0., 0., ..., 0., 0., 0.]], dtype=float32),\n",
       " 'Log1pSalary': array([ 9.71154 , 10.463132, 10.71444 ], dtype=float32)}"
      ]
     },
     "execution_count": 20,
     "metadata": {},
     "output_type": "execute_result"
    }
   ],
   "source": [
    "make_batch(data_train[:3], max_len=10)"
   ]
  },
  {
   "cell_type": "markdown",
   "metadata": {},
   "source": [
    "#### Architecture\n",
    "\n",
    "Our basic model consists of three branches:\n",
    "* Title encoder\n",
    "* Description encoder\n",
    "* Categorical features encoder\n",
    "\n",
    "We will then feed all 3 branches into one common network that predicts salary.\n",
    "\n",
    "<img src=\"https://github.com/yandexdataschool/nlp_course/raw/master/resources/w2_conv_arch.png\" width=600px>"
   ]
  },
  {
   "cell_type": "markdown",
   "metadata": {},
   "source": [
    "This clearly doesn't fit into keras' __Sequential__ interface. To build such a network, one will have to use __[Keras Functional API](https://keras.io/models/model/)__."
   ]
  },
  {
   "cell_type": "code",
   "execution_count": 21,
   "metadata": {},
   "outputs": [],
   "source": [
    "import keras\n",
    "import keras.layers as L"
   ]
  },
  {
   "cell_type": "code",
   "execution_count": 22,
   "metadata": {},
   "outputs": [],
   "source": [
    "def build_model(n_tokens=len(tokens), n_cat_features=len(categorical_vectorizer.vocabulary_), hid_size=64):\n",
    "    \"\"\" Build a model that maps three data sources to a single linear output: predicted log1p(salary) \"\"\"\n",
    "    \n",
    "    l_title = L.Input(shape=[None], name=\"Title\")\n",
    "    l_descr = L.Input(shape=[None], name=\"FullDescription\")\n",
    "    l_categ = L.Input(shape=[n_cat_features], name=\"Categorical\")\n",
    "    \n",
    "    # Build your monster!\n",
    "    f_title = L.LSTM(hid_size)(tf.expand_dims(l_title, -1))\n",
    "    f_descr = L.LSTM(hid_size)(tf.expand_dims(l_descr, -1))\n",
    "    output_layer = L.Dense(1)(tf.concat([f_title, f_descr, l_categ], axis=1))\n",
    "    # end of your code\n",
    "    \n",
    "    model = keras.models.Model(inputs=[l_title, l_descr, l_categ], outputs=[output_layer])\n",
    "    model.compile('adam', 'mean_squared_error', metrics=['mean_absolute_error'])\n",
    "    return model\n",
    "    "
   ]
  },
  {
   "cell_type": "code",
   "execution_count": 23,
   "metadata": {},
   "outputs": [
    {
     "name": "stdout",
     "output_type": "stream",
     "text": [
      "Model: \"model\"\n",
      "__________________________________________________________________________________________________\n",
      "Layer (type)                    Output Shape         Param #     Connected to                     \n",
      "==================================================================================================\n",
      "Title (InputLayer)              [(None, None)]       0                                            \n",
      "__________________________________________________________________________________________________\n",
      "FullDescription (InputLayer)    [(None, None)]       0                                            \n",
      "__________________________________________________________________________________________________\n",
      "tf.expand_dims (TFOpLambda)     (None, None, 1)      0           Title[0][0]                      \n",
      "__________________________________________________________________________________________________\n",
      "tf.expand_dims_1 (TFOpLambda)   (None, None, 1)      0           FullDescription[0][0]            \n",
      "__________________________________________________________________________________________________\n",
      "lstm (LSTM)                     (None, 64)           16896       tf.expand_dims[0][0]             \n",
      "__________________________________________________________________________________________________\n",
      "lstm_1 (LSTM)                   (None, 64)           16896       tf.expand_dims_1[0][0]           \n",
      "__________________________________________________________________________________________________\n",
      "Categorical (InputLayer)        [(None, 3768)]       0                                            \n",
      "__________________________________________________________________________________________________\n",
      "tf.concat (TFOpLambda)          (None, 3896)         0           lstm[0][0]                       \n",
      "                                                                 lstm_1[0][0]                     \n",
      "                                                                 Categorical[0][0]                \n",
      "__________________________________________________________________________________________________\n",
      "dense (Dense)                   (None, 1)            3897        tf.concat[0][0]                  \n",
      "==================================================================================================\n",
      "Total params: 37,689\n",
      "Trainable params: 37,689\n",
      "Non-trainable params: 0\n",
      "__________________________________________________________________________________________________\n"
     ]
    },
    {
     "name": "stderr",
     "output_type": "stream",
     "text": [
      "/home/rafasus/anaconda3/lib/python3.8/site-packages/tensorflow/python/keras/engine/functional.py:592: UserWarning: Input dict contained keys ['Log1pSalary'] which did not match any model input. They will be ignored by the model.\n",
      "  warnings.warn(\n"
     ]
    }
   ],
   "source": [
    "model = build_model()\n",
    "model.summary()\n",
    "\n",
    "dummy_pred = model.predict(make_batch(data_train[:100]))\n",
    "dummy_loss = model.train_on_batch(make_batch(data_train[:100]), data_train['Log1pSalary'][:100])[0]\n",
    "assert dummy_pred.shape == (100, 1)\n",
    "assert len(np.unique(dummy_pred)) > 20, \"model returns suspiciously few unique outputs. Check your initialization\"\n",
    "assert np.ndim(dummy_loss) == 0 and 0. <= dummy_loss <= 250., \"make sure you minimize MSE\""
   ]
  },
  {
   "cell_type": "markdown",
   "metadata": {},
   "source": [
    "#### Training and evaluation\n",
    "\n",
    "As usual, we gonna feed our monster with random minibatches of data. \n",
    "\n",
    "As we train, we want to monitor not only loss function, which is computed in log-space, but also the actual error measured in dollars."
   ]
  },
  {
   "cell_type": "code",
   "execution_count": 24,
   "metadata": {},
   "outputs": [],
   "source": [
    "def iterate_minibatches(data, batch_size=256, shuffle=True, cycle=False, **kwargs):\n",
    "    \"\"\" iterates minibatches of data in random order \"\"\"\n",
    "    while True:\n",
    "        indices = np.arange(len(data))\n",
    "        if shuffle:\n",
    "            indices = np.random.permutation(indices)\n",
    "\n",
    "        for start in range(0, len(indices), batch_size):\n",
    "            batch = make_batch(data.iloc[indices[start : start + batch_size]], **kwargs)\n",
    "            target = batch.pop(target_column)\n",
    "            yield batch, target\n",
    "        \n",
    "        if not cycle: break"
   ]
  },
  {
   "cell_type": "markdown",
   "metadata": {},
   "source": [
    "### Model training\n",
    "\n",
    "We can now fit our model the usual minibatch way. The interesting part is that we train on an infinite stream of minibatches, produced by `iterate_minibatches` function."
   ]
  },
  {
   "cell_type": "code",
   "execution_count": 25,
   "metadata": {},
   "outputs": [
    {
     "name": "stderr",
     "output_type": "stream",
     "text": [
      "/home/rafasus/anaconda3/lib/python3.8/site-packages/tensorflow/python/keras/engine/training.py:1844: UserWarning: `Model.fit_generator` is deprecated and will be removed in a future version. Please use `Model.fit`, which supports generators.\n",
      "  warnings.warn('`Model.fit_generator` is deprecated and '\n"
     ]
    },
    {
     "name": "stdout",
     "output_type": "stream",
     "text": [
      "Epoch 1/10\n",
      "100/100 [==============================] - 16s 146ms/step - loss: 65.7108 - mean_absolute_error: 7.4614 - val_loss: 0.3328 - val_mean_absolute_error: 0.4433\n",
      "Epoch 2/10\n",
      "100/100 [==============================] - 14s 141ms/step - loss: 0.3086 - mean_absolute_error: 0.4250 - val_loss: 0.2811 - val_mean_absolute_error: 0.4091\n",
      "Epoch 3/10\n",
      "100/100 [==============================] - 14s 143ms/step - loss: 0.2727 - mean_absolute_error: 0.4038 - val_loss: 0.2701 - val_mean_absolute_error: 0.4020\n",
      "Epoch 4/10\n",
      "100/100 [==============================] - 14s 143ms/step - loss: 0.2780 - mean_absolute_error: 0.4071 - val_loss: 0.2603 - val_mean_absolute_error: 0.3956\n",
      "Epoch 5/10\n",
      "100/100 [==============================] - 14s 141ms/step - loss: 0.2542 - mean_absolute_error: 0.3942 - val_loss: 0.2478 - val_mean_absolute_error: 0.3887\n",
      "Epoch 6/10\n",
      "100/100 [==============================] - 14s 141ms/step - loss: 0.2401 - mean_absolute_error: 0.3860 - val_loss: 0.2353 - val_mean_absolute_error: 0.3806\n",
      "Epoch 7/10\n",
      "100/100 [==============================] - 14s 140ms/step - loss: 0.2324 - mean_absolute_error: 0.3783 - val_loss: 0.2277 - val_mean_absolute_error: 0.3743\n",
      "Epoch 8/10\n",
      "100/100 [==============================] - 14s 144ms/step - loss: 0.2243 - mean_absolute_error: 0.3724 - val_loss: 0.2160 - val_mean_absolute_error: 0.3667\n",
      "Epoch 9/10\n",
      "100/100 [==============================] - 14s 140ms/step - loss: 0.2104 - mean_absolute_error: 0.3651 - val_loss: 0.2087 - val_mean_absolute_error: 0.3602\n",
      "Epoch 10/10\n",
      "100/100 [==============================] - 14s 144ms/step - loss: 0.2038 - mean_absolute_error: 0.3572 - val_loss: 0.2017 - val_mean_absolute_error: 0.3548\n"
     ]
    },
    {
     "data": {
      "text/plain": [
       "<tensorflow.python.keras.callbacks.History at 0x7fcc98267d60>"
      ]
     },
     "execution_count": 25,
     "metadata": {},
     "output_type": "execute_result"
    }
   ],
   "source": [
    "batch_size = 256\n",
    "epochs = 10            # definitely too small\n",
    "steps_per_epoch = 100  # for full pass over data: (len(data_train) - 1) // batch_size + 1\n",
    "\n",
    "model = build_model()\n",
    "\n",
    "model.fit_generator(iterate_minibatches(data_train, batch_size, cycle=True, word_dropout=0.05), \n",
    "                    epochs=epochs, steps_per_epoch=steps_per_epoch,\n",
    "                    \n",
    "                    validation_data=iterate_minibatches(data_val, batch_size, cycle=True),\n",
    "                    validation_steps=data_val.shape[0] // batch_size\n",
    "                   )"
   ]
  },
  {
   "cell_type": "code",
   "execution_count": 26,
   "metadata": {},
   "outputs": [
    {
     "name": "stdout",
     "output_type": "stream",
     "text": [
      "Train results:\n",
      "Mean square error: 0.20299\n",
      "Mean absolute error: 0.35487\n",
      "Val results:\n",
      "Mean square error: 0.20197\n",
      "Mean absolute error: 0.35484\n"
     ]
    }
   ],
   "source": [
    "def print_metrics(model, data, batch_size=batch_size, name=\"\", **kw):\n",
    "    squared_error = abs_error = num_samples = 0.0\n",
    "    for batch_x, batch_y in iterate_minibatches(data, batch_size=batch_size, shuffle=False, **kw):\n",
    "        batch_pred = model.predict(batch_x)[:, 0]\n",
    "        squared_error += np.sum(np.square(batch_pred - batch_y))\n",
    "        abs_error += np.sum(np.abs(batch_pred - batch_y))\n",
    "        num_samples += len(batch_y)\n",
    "    print(\"%s results:\" % (name or \"\"))\n",
    "    print(\"Mean square error: %.5f\" % (squared_error / num_samples))\n",
    "    print(\"Mean absolute error: %.5f\" % (abs_error / num_samples))\n",
    "    return squared_error, abs_error\n",
    "    \n",
    "print_metrics(model, data_train, name='Train')\n",
    "print_metrics(model, data_val, name='Val');"
   ]
  },
  {
   "cell_type": "markdown",
   "metadata": {},
   "source": [
    "### Bonus part: explaining model predictions\n",
    "\n",
    "It's usually a good idea to understand how your model works before you let it make actual decisions. It's simple for linear models: just see which words learned positive or negative weights. However, its much harder for neural networks that learn complex nonlinear dependencies.\n",
    "\n",
    "There are, however, some ways to look inside the black box:\n",
    "* Seeing how model responds to input perturbations\n",
    "* Finding inputs that maximize/minimize activation of some chosen neurons (_read more [on distill.pub](https://distill.pub/2018/building-blocks/)_)\n",
    "* Building local linear approximations to your neural network: [article](https://arxiv.org/abs/1602.04938), [eli5 library](https://github.com/TeamHG-Memex/eli5/tree/master/eli5/formatters)\n",
    "\n",
    "Today we gonna try the first method just because it's the simplest one."
   ]
  },
  {
   "cell_type": "code",
   "execution_count": 27,
   "metadata": {},
   "outputs": [],
   "source": [
    "def explain(model, sample, col_name='Title'):\n",
    "    \"\"\" Computes the effect each word had on model predictions \"\"\"\n",
    "    sample = dict(sample)\n",
    "    sample_col_tokens = [tokens[token_to_id.get(tok, 0)] for tok in sample[col_name].split()]\n",
    "    data_drop_one_token = pd.DataFrame([sample] * (len(sample_col_tokens) + 1))\n",
    "\n",
    "    for drop_i in range(len(sample_col_tokens)):\n",
    "        data_drop_one_token.loc[drop_i, col_name] = ' '.join(UNK if i == drop_i else tok\n",
    "                                                   for i, tok in enumerate(sample_col_tokens)) \n",
    "\n",
    "    *predictions_drop_one_token, baseline_pred = model.predict(make_batch(data_drop_one_token))[:, 0]\n",
    "    diffs = baseline_pred - predictions_drop_one_token\n",
    "    return list(zip(sample_col_tokens, diffs))"
   ]
  },
  {
   "cell_type": "code",
   "execution_count": 28,
   "metadata": {},
   "outputs": [],
   "source": [
    "from IPython.display import HTML, display_html\n",
    "\n",
    "def draw_html(tokens_and_weights, cmap=plt.get_cmap(\"bwr\"), display=True,\n",
    "              token_template=\"\"\"<span style=\"background-color: {color_hex}\">{token}</span>\"\"\",\n",
    "              font_style=\"font-size:14px;\"\n",
    "             ):\n",
    "    \n",
    "    def get_color_hex(weight):\n",
    "        rgba = cmap(1. / (1 + np.exp(weight)), bytes=True)\n",
    "        return '#%02X%02X%02X' % rgba[:3]\n",
    "    \n",
    "    tokens_html = [\n",
    "        token_template.format(token=token, color_hex=get_color_hex(weight))\n",
    "        for token, weight in tokens_and_weights\n",
    "    ]\n",
    "    \n",
    "    \n",
    "    raw_html = \"\"\"<p style=\"{}\">{}</p>\"\"\".format(font_style, ' '.join(tokens_html))\n",
    "    if display:\n",
    "        display_html(HTML(raw_html))\n",
    "        \n",
    "    return raw_html\n",
    "    "
   ]
  },
  {
   "cell_type": "code",
   "execution_count": 29,
   "metadata": {},
   "outputs": [
    {
     "data": {
      "text/html": [
       "<p style=\"font-size:20px;\"><span style=\"background-color: #FFFEFE\">sales</span> <span style=\"background-color: #FFF2F2\">specialist</span> <span style=\"background-color: #FFF0F0\">iv</span> <span style=\"background-color: #FFF0F0\">access</span> <span style=\"background-color: #FFF2F2\">and</span> <span style=\"background-color: #FF1818\">infusion</span></p>"
      ]
     },
     "metadata": {},
     "output_type": "display_data"
    },
    {
     "data": {
      "text/html": [
       "<p style=\"font-size:14px;\"><span style=\"background-color: #FFF4F4\">sales</span> <span style=\"background-color: #FF3131\">representative</span> <span style=\"background-color: #FF2828\">medical</span> <span style=\"background-color: #FF2626\">sales</span> <span style=\"background-color: #FF2626\">iv</span> <span style=\"background-color: #FF2626\">access</span> <span style=\"background-color: #FF2424\">and</span> <span style=\"background-color: #FF2424\">infusion</span> <span style=\"background-color: #FF2424\">an</span> <span style=\"background-color: #FF2424\">opportunity</span> <span style=\"background-color: #FF2424\">to</span> <span style=\"background-color: #FF2424\">work</span> <span style=\"background-color: #FF2424\">for</span> <span style=\"background-color: #FF2424\">the</span> <span style=\"background-color: #FF2424\">industry</span> <span style=\"background-color: #FF2424\">leading</span> <span style=\"background-color: #FF2424\">manufacturer</span> <span style=\"background-color: #FF2424\">of</span> <span style=\"background-color: #FF2424\">iv</span> <span style=\"background-color: #FF2424\">access</span> <span style=\"background-color: #FF2424\">and</span> <span style=\"background-color: #FF2424\">infusion</span> <span style=\"background-color: #FF2424\">solutions</span> <span style=\"background-color: #FF2424\">.</span> <span style=\"background-color: #FF2121\">formally</span> <span style=\"background-color: #FF2121\">recognised</span> <span style=\"background-color: #FF2121\">as</span> <span style=\"background-color: #FF2121\">the</span> <span style=\"background-color: #FF2121\">number</span> <span style=\"background-color: #FF2121\">****</span> <span style=\"background-color: #FF2121\">company</span> <span style=\"background-color: #FF2121\">in</span> <span style=\"background-color: #FF2121\">this</span> <span style=\"background-color: #FF2121\">market</span> <span style=\"background-color: #FF2121\">space</span> <span style=\"background-color: #FF2121\">,</span> <span style=\"background-color: #FF2121\">our</span> <span style=\"background-color: #FF2121\">client</span> <span style=\"background-color: #FF2121\">are</span> <span style=\"background-color: #FF2121\">an</span> <span style=\"background-color: #FF2121\">ethical</span> <span style=\"background-color: #FF2121\">and</span> <span style=\"background-color: #FF2121\">dynamic</span> <span style=\"background-color: #FF2121\">organisation</span> <span style=\"background-color: #FF2121\">absolutely</span> <span style=\"background-color: #FF2020\">committed</span> <span style=\"background-color: #FF2020\">to</span> <span style=\"background-color: #FF2020\">the</span> <span style=\"background-color: #FF2020\">advancement</span> <span style=\"background-color: #FF2020\">of</span> <span style=\"background-color: #FF2020\">innovative</span> <span style=\"background-color: #FF2020\">technologies</span> <span style=\"background-color: #FF2020\">.</span> <span style=\"background-color: #FF2020\">job</span> <span style=\"background-color: #FF2020\">title</span> <span style=\"background-color: #FF2020\">:</span> <span style=\"background-color: #FF2020\">sales</span> <span style=\"background-color: #FF2020\">specialist</span> <span style=\"background-color: #FF2020\">iv</span> <span style=\"background-color: #FF2020\">access</span> <span style=\"background-color: #FF2020\">and</span> <span style=\"background-color: #FF2020\">infusion</span> <span style=\"background-color: #FF2020\">selling</span> <span style=\"background-color: #FF2020\">:</span> <span style=\"background-color: #FF2020\">medication</span> <span style=\"background-color: #FF2020\">delivery</span> <span style=\"background-color: #FF2020\">solutions</span> <span style=\"background-color: #FF2020\">selling</span> <span style=\"background-color: #FF2020\">to</span> <span style=\"background-color: #FF2020\">:</span> <span style=\"background-color: #FF2020\">iv</span> <span style=\"background-color: #FF2020\">teams</span> <span style=\"background-color: #FF2020\">,</span> <span style=\"background-color: #FF2020\">infection</span> <span style=\"background-color: #FF2020\">control</span> <span style=\"background-color: #FF2020\">,</span> <span style=\"background-color: #FF2020\">lead</span> <span style=\"background-color: #FF2020\">intensive</span> <span style=\"background-color: #FF2020\">care</span> <span style=\"background-color: #FF2020\">nurse</span> <span style=\"background-color: #FF2020\">specialists</span> <span style=\"background-color: #FF2020\">,</span> <span style=\"background-color: #FF2020\">ward</span> <span style=\"background-color: #FF2020\">managers</span> <span style=\"background-color: #FF2020\">territory</span> <span style=\"background-color: #FF2020\">:</span> <span style=\"background-color: #FF2020\">east</span> <span style=\"background-color: #FF2020\">midlands</span> <span style=\"background-color: #FF2020\">location</span> <span style=\"background-color: #FF2020\">:</span> <span style=\"background-color: #FF2020\">east</span> <span style=\"background-color: #FF2020\">midlands</span> <span style=\"background-color: #FF2020\">package</span> <span style=\"background-color: #FF2020\">:</span> <span style=\"background-color: #FF2020\">basic</span> <span style=\"background-color: #FF2020\">:</span> <span style=\"background-color: #FF2020\">****</span> <span style=\"background-color: #FF2020\">k</span> <span style=\"background-color: #FF1E1E\">****</span> <span style=\"background-color: #FF2020\">k</span> <span style=\"background-color: #FF1E1E\">,</span> <span style=\"background-color: #FF1E1E\">uncapped</span> <span style=\"background-color: #FF1E1E\">bonus</span> <span style=\"background-color: #FF1E1E\">in</span> <span style=\"background-color: #FF1E1E\">addition</span> <span style=\"background-color: #FF1E1E\">,</span> <span style=\"background-color: #FF1E1E\">full</span> <span style=\"background-color: #FF1E1E\">corporate</span> <span style=\"background-color: #FF1E1E\">benefits</span> <span style=\"background-color: #FF1E1E\">company</span> <span style=\"background-color: #FF1E1E\">information</span> <span style=\"background-color: #FF1E1E\">hugely</span> <span style=\"background-color: #FF1E1E\">ethical</span> <span style=\"background-color: #FF1E1E\">and</span> <span style=\"background-color: #FF1E1E\">professional</span> <span style=\"background-color: #FF1E1E\">global</span> <span style=\"background-color: #FF1E1E\">organisation</span> <span style=\"background-color: #FF1E1E\">extremely</span> <span style=\"background-color: #FF1E1E\">well</span> <span style=\"background-color: #FF1E1E\">established</span> <span style=\"background-color: #FF1E1E\">in</span> <span style=\"background-color: #FF1E1E\">the</span> <span style=\"background-color: #FF1E1E\">uk</span> <span style=\"background-color: #FF1E1E\">the</span> <span style=\"background-color: #FF1E1E\">market</span> <span style=\"background-color: #FF1E1E\">leader</span> <span style=\"background-color: #FF1E1E\">across</span> <span style=\"background-color: #FF1E1E\">all</span> <span style=\"background-color: #FF1E1E\">of</span> <span style=\"background-color: #FF1E1E\">their</span> <span style=\"background-color: #FF1E1E\">core</span> <span style=\"background-color: #FF1E1E\">business</span> <span style=\"background-color: #FF1E1E\">areas</span> <span style=\"background-color: #FF1E1E\">focus</span> <span style=\"background-color: #FF1E1E\">on</span> <span style=\"background-color: #FF1E1E\">providing</span> <span style=\"background-color: #FF1E1E\">cutting</span> <span style=\"background-color: #FF1E1E\">edge</span> <span style=\"background-color: #FF1E1E\">solutions</span> <span style=\"background-color: #FF1E1E\">along</span> <span style=\"background-color: #FF1E1E\">with</span> <span style=\"background-color: #FF1E1E\">outstanding</span> <span style=\"background-color: #FF1E1E\">service</span> <span style=\"background-color: #FF1E1E\">and</span> <span style=\"background-color: #FF1E1E\">support</span> <span style=\"background-color: #FF1E1E\">a</span> <span style=\"background-color: #FF1E1E\">business</span> <span style=\"background-color: #FF1E1E\">that</span> <span style=\"background-color: #FF1E1E\">retain</span> <span style=\"background-color: #FF1E1E\">talented</span> <span style=\"background-color: #FF1E1E\">personnel</span> <span style=\"background-color: #FF1E1E\">by</span> <span style=\"background-color: #FF1E1E\">offering</span> <span style=\"background-color: #FF1E1E\">a</span> <span style=\"background-color: #FF1E1E\">strong</span> <span style=\"background-color: #FF1E1E\">platform</span> <span style=\"background-color: #FF1E1E\">for</span> <span style=\"background-color: #FF1E1E\">career</span> <span style=\"background-color: #FF1E1E\">development</span> <span style=\"background-color: #FF1E1E\">sales</span> <span style=\"background-color: #FF1E1E\">specialist</span> <span style=\"background-color: #FF1E1E\">iv</span> <span style=\"background-color: #FF1E1E\">access</span> <span style=\"background-color: #FF1E1E\">and</span> <span style=\"background-color: #FF1E1E\">infusion</span> <span style=\"background-color: #FF1E1E\">you</span> <span style=\"background-color: #FF1E1E\">must</span> <span style=\"background-color: #FF1E1E\">have</span> <span style=\"background-color: #FF1E1E\">/</span> <span style=\"background-color: #FF1E1E\">be</span> <span style=\"background-color: #FF1E1E\">the</span> <span style=\"background-color: #FF1E1E\">following</span> <span style=\"background-color: #FF1E1E\">at</span> <span style=\"background-color: #FF1E1E\">least</span> <span style=\"background-color: #FF1E1E\">2</span> <span style=\"background-color: #FF1E1E\">years</span> <span style=\"background-color: #FF1E1E\">medical</span> <span style=\"background-color: #FF1E1E\">device</span> <span style=\"background-color: #FF1E1E\">sales</span> <span style=\"background-color: #FF1E1E\">experience</span> <span style=\"background-color: #FF1E1E\">.</span> <span style=\"background-color: #FF1E1E\">candidates</span> <span style=\"background-color: #FF1E1E\">who</span> <span style=\"background-color: #FF1E1E\">have</span> <span style=\"background-color: #FF1E1E\">sold</span> <span style=\"background-color: #FF1E1E\">disposables</span> <span style=\"background-color: #FF1E1E\">/</span> <span style=\"background-color: #FF1E1E\">consumables</span> <span style=\"background-color: #FF1E1E\">or</span> <span style=\"background-color: #FF1E1E\">similar</span> <span style=\"background-color: #FF1E1E\">into</span> <span style=\"background-color: #FF1E1E\">hospitals</span> <span style=\"background-color: #FF1E1E\">would</span> <span style=\"background-color: #FF1E1E\">be</span> <span style=\"background-color: #FF1E1E\">of</span> <span style=\"background-color: #FF1E1E\">particular</span> <span style=\"background-color: #FF1E1E\">interest</span> <span style=\"background-color: #FF1E1E\">.</span> <span style=\"background-color: #FF1E1E\">candidates</span> <span style=\"background-color: #FF1E1E\">must</span> <span style=\"background-color: #FF1E1E\">have</span> <span style=\"background-color: #FF1E1E\">sold</span> <span style=\"background-color: #FF1E1E\">into</span> <span style=\"background-color: #FF1E1E\">hospitals</span> <span style=\"background-color: #FF1E1E\">demonstrable</span> <span style=\"background-color: #FF1E1E\">performance</span> <span style=\"background-color: #FF1E1E\">and</span> <span style=\"background-color: #FF1E1E\">achievements</span> <span style=\"background-color: #FF1E1E\">so</span> <span style=\"background-color: #FF1E1E\">far</span> <span style=\"background-color: #FF1E1E\">personable</span> <span style=\"background-color: #FF1E1E\">,</span> <span style=\"background-color: #FF1E1E\">adaptable</span> <span style=\"background-color: #FF1E1E\">and</span> <span style=\"background-color: #FF1E1E\">willing</span> <span style=\"background-color: #FF1E1E\">to</span> <span style=\"background-color: #FF1E1E\">learn</span> <span style=\"background-color: #FF1E1E\">keen</span> <span style=\"background-color: #FF1E1E\">and</span> <span style=\"background-color: #FF1E1E\">eager</span> <span style=\"background-color: #FF1E1E\">to</span> <span style=\"background-color: #FF1E1E\">be</span> <span style=\"background-color: #FF1E1E\">a</span> <span style=\"background-color: #FF1E1E\">success</span> <span style=\"background-color: #FF1E1E\">candidates</span> <span style=\"background-color: #FF1E1E\">must</span> <span style=\"background-color: #FF1E1E\">have</span> <span style=\"background-color: #FF1E1E\">a</span> <span style=\"background-color: #FF1E1E\">degree</span> <span style=\"background-color: #FF1E1E\">or</span> <span style=\"background-color: #FF1E1E\">at</span> <span style=\"background-color: #FF1E1E\">least</span> <span style=\"background-color: #FF1E1E\">be</span> <span style=\"background-color: #FF1E1E\">able</span> <span style=\"background-color: #FF1E1E\">to</span> <span style=\"background-color: #FF1E1E\">show</span> <span style=\"background-color: #FF1E1E\">a</span> <span style=\"background-color: #FF1E1E\">strong</span> <span style=\"background-color: #FF1E1E\">ability</span> <span style=\"background-color: #FF1E1E\">to</span> <span style=\"background-color: #FF1E1E\">learn</span> <span style=\"background-color: #FF1E1E\">role</span> <span style=\"background-color: #FF1E1E\">information</span> <span style=\"background-color: #FF1E1E\">managing</span> <span style=\"background-color: #FF1E1E\">the</span> <span style=\"background-color: #FF1E1E\">east</span> <span style=\"background-color: #FF1E1E\">midlands</span> <span style=\"background-color: #FF1E1E\">region</span> <span style=\"background-color: #FF1E1E\">selling</span> <span style=\"background-color: #FF1E1E\">across</span> <span style=\"background-color: #FF1E1E\">the</span> <span style=\"background-color: #FF2020\">company</span> <span style=\"background-color: #FF4E4E\">'</span> <span style=\"background-color: #FF1C1C\">s</span> <span style=\"background-color: #FF1E1E\">range</span> <span style=\"background-color: #FF1E1E\">of</span> <span style=\"background-color: #FF1E1E\">iv</span> <span style=\"background-color: #FF1E1E\">and</span> <span style=\"background-color: #FF1E1E\">infusion</span> <span style=\"background-color: #FF1E1E\">solutions</span> <span style=\"background-color: #FF1E1E\">portfolio</span> <span style=\"background-color: #FF1E1E\">selling</span> <span style=\"background-color: #FF1E1E\">into</span> <span style=\"background-color: #FF1E1E\">lead</span> <span style=\"background-color: #FF1E1E\">intensive</span> <span style=\"background-color: #FF1E1E\">care</span> <span style=\"background-color: #FF1E1E\">nurse</span> <span style=\"background-color: #FF1E1E\">specialists</span> <span style=\"background-color: #FF1E1E\">,</span> <span style=\"background-color: #FF1E1E\">ward</span> <span style=\"background-color: #FF1E1E\">managers</span> <span style=\"background-color: #FF1E1E\">,</span> <span style=\"background-color: #FF1E1E\">iv</span> <span style=\"background-color: #FF1E1E\">teams</span> <span style=\"background-color: #FF1C1C\">,</span> <span style=\"background-color: #FF1E1E\">infection</span> <span style=\"background-color: #FF1E1E\">control</span> <span style=\"background-color: #FF1E1E\">teams</span> <span style=\"background-color: #FF1C1C\">,</span> <span style=\"background-color: #FF1E1E\">procurement</span> <span style=\"background-color: #FF1E1E\">sales</span> <span style=\"background-color: #FF1E1E\">specialist</span> <span style=\"background-color: #FF1E1E\">iv</span> <span style=\"background-color: #FF1E1E\">access</span> <span style=\"background-color: #FF1E1E\">and</span> <span style=\"background-color: #FF1E1E\">infusion</span> <span style=\"background-color: #FF1E1E\">candidates</span> <span style=\"background-color: #FF1E1E\">must</span> <span style=\"background-color: #FF1E1E\">be</span> <span style=\"background-color: #FF1E1E\">eligible</span> <span style=\"background-color: #FF1E1E\">to</span> <span style=\"background-color: #FF1E1E\">work</span> <span style=\"background-color: #FF1E1E\">and</span> <span style=\"background-color: #FF1E1E\">live</span> <span style=\"background-color: #FF1E1E\">in</span> <span style=\"background-color: #FF1E1E\">the</span> <span style=\"background-color: #FF1E1E\">uk</span> <span style=\"background-color: #FF1C1C\">.</span> <span style=\"background-color: #FF1E1E\">please</span> <span style=\"background-color: #FF1E1E\">contact</span> <span style=\"background-color: #FF1E1E\">allan</span> <span style=\"background-color: #FF1E1E\">waller</span> <span style=\"background-color: #FF1E1E\">on</span> <span style=\"background-color: #FF1C1C\">****</span> <span style=\"background-color: #FF1C1C\">****</span> <span style=\"background-color: #FF1C1C\">****</span> <span style=\"background-color: #FF1C1C\">or</span> <span style=\"background-color: #FF1C1C\">please</span> <span style=\"background-color: #FF1C1C\">hit</span> <span style=\"background-color: #FF1C1C\">the</span> <span style=\"background-color: #FF1C1C\">apply</span> <span style=\"background-color: #FF1C1C\">button</span> <span style=\"background-color: #FF1C1C\">.</span> <span style=\"background-color: #FF1C1C\">this</span> <span style=\"background-color: #FF1C1C\">job</span> <span style=\"background-color: #FF1C1C\">was</span> <span style=\"background-color: #FF1C1C\">originally</span> <span style=\"background-color: #FF1C1C\">posted</span> <span style=\"background-color: #FF1C1C\">as</span> <span style=\"background-color: #FF1C1C\">www</span> <span style=\"background-color: #FF1C1C\">.</span> <span style=\"background-color: #FF1C1C\">salestarget</span> <span style=\"background-color: #FF1C1C\">.</span> <span style=\"background-color: #FF1C1C\">co</span> <span style=\"background-color: #FF1C1C\">.</span> <span style=\"background-color: #FF1C1C\">uk</span> <span style=\"background-color: #FF1C1C\">/</span> <span style=\"background-color: #FF1616\">jobseeking</span> <span style=\"background-color: #FF1111\">/</span> <span style=\"background-color: #FFFEFE\">UNK</span> <span style=\"background-color: #FF0404\">****</span></p>"
      ]
     },
     "metadata": {},
     "output_type": "display_data"
    }
   ],
   "source": [
    "i = 36605\n",
    "tokens_and_weights = explain(model, data.loc[i], \"Title\")\n",
    "draw_html([(tok, weight * 5) for tok, weight in tokens_and_weights], font_style='font-size:20px;');\n",
    "\n",
    "tokens_and_weights = explain(model, data.loc[i], \"FullDescription\")\n",
    "draw_html([(tok, weight * 10) for tok, weight in tokens_and_weights]);"
   ]
  },
  {
   "cell_type": "code",
   "execution_count": 30,
   "metadata": {},
   "outputs": [
    {
     "data": {
      "text/html": [
       "<p style=\"font-size:20px;\"><span style=\"background-color: #0C0CFF\">cleaning</span> <span style=\"background-color: #FFB8B8\">operative</span></p>"
      ]
     },
     "metadata": {},
     "output_type": "display_data"
    },
    {
     "data": {
      "text/html": [
       "<p style=\"font-size:14px;\"><span style=\"background-color: #FFFAFA\">12</span> <span style=\"background-color: #FFAAAA\">.</span> <span style=\"background-color: #FF9E9E\">5</span> <span style=\"background-color: #FF9C9C\">hours</span> <span style=\"background-color: #FF9E9E\">per</span> <span style=\"background-color: #FF9E9E\">week</span> <span style=\"background-color: #FF9E9E\">monday</span> <span style=\"background-color: #FF9E9E\">friday</span> <span style=\"background-color: #FF9E9E\">9am</span> <span style=\"background-color: #FF9E9E\">11</span> <span style=\"background-color: #FF9C9C\">.</span> <span style=\"background-color: #FF9C9C\">30am</span> <span style=\"background-color: #FF9C9C\">duties</span> <span style=\"background-color: #FF9C9C\">to</span> <span style=\"background-color: #FF9C9C\">include</span> <span style=\"background-color: #FF9C9C\">sweeping</span> <span style=\"background-color: #FF9C9C\">,</span> <span style=\"background-color: #FF9C9C\">mopping</span> <span style=\"background-color: #FF9C9C\">,</span> <span style=\"background-color: #FF9C9C\">vacuuming</span> <span style=\"background-color: #FF9C9C\">,</span> <span style=\"background-color: #FF9C9C\">buffing</span> <span style=\"background-color: #FF9C9C\">,</span> <span style=\"background-color: #FF9C9C\">cleaning</span> <span style=\"background-color: #FF9C9C\">staff</span> <span style=\"background-color: #FF9C9C\">toilets</span> <span style=\"background-color: #FF9C9C\">and</span> <span style=\"background-color: #FF9C9C\">rest</span> <span style=\"background-color: #FF9C9C\">room</span> <span style=\"background-color: #FF9C9C\">.</span> <span style=\"background-color: #FF9C9C\">must</span> <span style=\"background-color: #FF9C9C\">be</span> <span style=\"background-color: #FF9C9C\">able</span> <span style=\"background-color: #FF9C9C\">to</span> <span style=\"background-color: #FF9C9C\">read</span> <span style=\"background-color: #FF9C9C\">as</span> <span style=\"background-color: #FF9C9C\">they</span> <span style=\"background-color: #FF9C9C\">will</span> <span style=\"background-color: #FF9C9C\">be</span> <span style=\"background-color: #FF9C9C\">using</span> <span style=\"background-color: #FEFEFF\">UNK</span> <span style=\"background-color: #FF9C9C\">which</span> <span style=\"background-color: #FF9898\">need</span> <span style=\"background-color: #FEFEFF\">UNK</span> <span style=\"background-color: #FF9898\">as</span> <span style=\"background-color: #FF9C9C\">per</span> <span style=\"background-color: #FF9C9C\">instructions</span> <span style=\"background-color: #FF9C9C\">on</span> <span style=\"background-color: #FF9C9C\">the</span> <span style=\"background-color: #FF9C9C\">containers</span> <span style=\"background-color: #FF9C9C\">.</span> <span style=\"background-color: #FF9C9C\">sucessfull</span> <span style=\"background-color: #FF9C9C\">applicants</span> <span style=\"background-color: #FF9C9C\">will</span> <span style=\"background-color: #FF9C9C\">be</span> <span style=\"background-color: #FF9C9C\">trained</span> <span style=\"background-color: #FF9C9C\">on</span> <span style=\"background-color: #FF9C9C\">all</span> <span style=\"background-color: #FF9C9C\">electrical</span> <span style=\"background-color: #FF9C9C\">appliances</span> <span style=\"background-color: #FF9696\">and</span> <span style=\"background-color: #FEFEFF\">UNK</span> <span style=\"background-color: #FF9696\">of</span> <span style=\"background-color: #FF9C9C\">cleaning</span> <span style=\"background-color: #FF6464\">materials</span> <span style=\"background-color: #FF6060\">.</span></p>"
      ]
     },
     "metadata": {},
     "output_type": "display_data"
    }
   ],
   "source": [
    "i = 12077\n",
    "tokens_and_weights = explain(model, data.loc[i], \"Title\")\n",
    "draw_html([(tok, weight * 5) for tok, weight in tokens_and_weights], font_style='font-size:20px;');\n",
    "\n",
    "tokens_and_weights = explain(model, data.loc[i], \"FullDescription\")\n",
    "draw_html([(tok, weight * 10) for tok, weight in tokens_and_weights]);"
   ]
  },
  {
   "cell_type": "code",
   "execution_count": 31,
   "metadata": {},
   "outputs": [
    {
     "name": "stdout",
     "output_type": "stream",
     "text": [
      "Index: 242567\n",
      "Salary (gbp): 950.8174\n"
     ]
    },
    {
     "data": {
      "text/html": [
       "<p style=\"font-size:20px;\"><span style=\"background-color: #FEFEFF\">senior</span> <span style=\"background-color: #FFF2F2\">engineer</span> <span style=\"background-color: #FFF0F0\">/</span> <span style=\"background-color: #FFF0F0\">engineering</span> <span style=\"background-color: #FFF2F2\">maintenance</span> <span style=\"background-color: #FF1818\">manager</span></p>"
      ]
     },
     "metadata": {},
     "output_type": "display_data"
    },
    {
     "data": {
      "text/html": [
       "<p style=\"font-size:14px;\"><span style=\"background-color: #FFEAEA\">our</span> <span style=\"background-color: #FF0404\">client</span> <span style=\"background-color: #FF0101\">is</span> <span style=\"background-color: #FF0000\">a</span> <span style=\"background-color: #FF0000\">leading</span> <span style=\"background-color: #FF0000\">global</span> <span style=\"background-color: #FF0000\">manufacturing</span> <span style=\"background-color: #FF0000\">company</span> <span style=\"background-color: #FF0000\">.</span> <span style=\"background-color: #FF0000\">they</span> <span style=\"background-color: #FF0000\">are</span> <span style=\"background-color: #FF0000\">currently</span> <span style=\"background-color: #FF0000\">looking</span> <span style=\"background-color: #FF0000\">to</span> <span style=\"background-color: #FF0000\">recruit</span> <span style=\"background-color: #FF0000\">an</span> <span style=\"background-color: #FF0000\">experienced</span> <span style=\"background-color: #FF0000\">senior</span> <span style=\"background-color: #FF0000\">engineer</span> <span style=\"background-color: #FF0000\">to</span> <span style=\"background-color: #FF0000\">implement</span> <span style=\"background-color: #FF0000\">and</span> <span style=\"background-color: #FF0000\">manage</span> <span style=\"background-color: #FF0000\">a</span> <span style=\"background-color: #FF0000\">risk</span> <span style=\"background-color: #FF0000\">based</span> <span style=\"background-color: #FF0000\">maintenance</span> <span style=\"background-color: #FF0000\">strategy</span> <span style=\"background-color: #FF0000\">,</span> <span style=\"background-color: #FF0000\">developing</span> <span style=\"background-color: #FF0000\">continuous</span> <span style=\"background-color: #FF0000\">improvements</span> <span style=\"background-color: #FF0000\">to</span> <span style=\"background-color: #FF0000\">the</span> <span style=\"background-color: #FF0000\">plant</span> <span style=\"background-color: #FF0000\">and</span> <span style=\"background-color: #FF0000\">personnel</span> <span style=\"background-color: #FF0000\">,</span> <span style=\"background-color: #FF0000\">ensuring</span> <span style=\"background-color: #FF0000\">business</span> <span style=\"background-color: #FF0000\">objectives</span> <span style=\"background-color: #FF0000\">are</span> <span style=\"background-color: #FF0000\">met</span> <span style=\"background-color: #FF0000\">safely</span> <span style=\"background-color: #FF0000\">,</span> <span style=\"background-color: #FF0000\">on</span> <span style=\"background-color: #FF0000\">time</span> <span style=\"background-color: #FF0000\">and</span> <span style=\"background-color: #FF0000\">on</span> <span style=\"background-color: #FF0000\">budget</span> <span style=\"background-color: #FF0000\">.</span> <span style=\"background-color: #FF0000\">you</span> <span style=\"background-color: #FF0000\">will</span> <span style=\"background-color: #FF0000\">lead</span> <span style=\"background-color: #FF0000\">and</span> <span style=\"background-color: #FF0000\">manage</span> <span style=\"background-color: #FF0000\">the</span> <span style=\"background-color: #FF0000\">maintenance</span> <span style=\"background-color: #FF0000\">department</span> <span style=\"background-color: #FF0000\">,</span> <span style=\"background-color: #FF0000\">ensuring</span> <span style=\"background-color: #FF0000\">the</span> <span style=\"background-color: #FF0000\">safe</span> <span style=\"background-color: #FF0000\">introduction</span> <span style=\"background-color: #FF0000\">of</span> <span style=\"background-color: #FF0000\">new</span> <span style=\"background-color: #FF0000\">equipment</span> <span style=\"background-color: #FF0000\">.</span> <span style=\"background-color: #FF0000\">an</span> <span style=\"background-color: #FF0000\">expert</span> <span style=\"background-color: #FF0000\">knowledge</span> <span style=\"background-color: #FF0000\">of</span> <span style=\"background-color: #FF0000\">heavy</span> <span style=\"background-color: #FF0000\">industry</span> <span style=\"background-color: #FF0000\">engineering</span> <span style=\"background-color: #FF0000\">process</span> <span style=\"background-color: #FF0000\">and</span> <span style=\"background-color: #FF0000\">operations</span> <span style=\"background-color: #FF0000\">is</span> <span style=\"background-color: #FF0000\">essential</span> <span style=\"background-color: #FF0000\">as</span> <span style=\"background-color: #FF0000\">well</span> <span style=\"background-color: #FF0000\">as</span> <span style=\"background-color: #FF0000\">an</span> <span style=\"background-color: #FF0000\">understanding</span> <span style=\"background-color: #FF0000\">of</span> <span style=\"background-color: #FF0000\">comah</span> <span style=\"background-color: #FF0000\">,</span> <span style=\"background-color: #FF0000\">ideally</span> <span style=\"background-color: #FF0000\">gained</span> <span style=\"background-color: #FF0000\">within</span> <span style=\"background-color: #FF0000\">a</span> <span style=\"background-color: #FF0000\">similar</span> <span style=\"background-color: #FF0000\">plant</span> <span style=\"background-color: #FF0000\">.</span> <span style=\"background-color: #FF0000\">the</span> <span style=\"background-color: #FF0000\">successful</span> <span style=\"background-color: #FF0000\">candidate</span> <span style=\"background-color: #FF0000\">will</span> <span style=\"background-color: #FF0000\">be</span> <span style=\"background-color: #FF0000\">qualified</span> <span style=\"background-color: #FF0000\">to</span> <span style=\"background-color: #FF0000\">degree</span> <span style=\"background-color: #FF0000\">level</span> <span style=\"background-color: #FF0000\">or</span> <span style=\"background-color: #FF0000\">equivalent</span> <span style=\"background-color: #FF0000\">in</span> <span style=\"background-color: #FF0000\">a</span> <span style=\"background-color: #FF0000\">relevant</span> <span style=\"background-color: #FF0000\">subject</span> <span style=\"background-color: #FF0000\">with</span> <span style=\"background-color: #FF0000\">a</span> <span style=\"background-color: #FF0000\">wealth</span> <span style=\"background-color: #FF0000\">of</span> <span style=\"background-color: #FF0000\">practical</span> <span style=\"background-color: #FF0000\">experience</span> <span style=\"background-color: #FF0000\">.</span> <span style=\"background-color: #FF0000\">a</span> <span style=\"background-color: #FF0000\">natural</span> <span style=\"background-color: #FF0000\">leader</span> <span style=\"background-color: #FF0000\">,</span> <span style=\"background-color: #FF0000\">you</span> <span style=\"background-color: #FF0000\">will</span> <span style=\"background-color: #FF0000\">motivate</span> <span style=\"background-color: #FF0000\">and</span> <span style=\"background-color: #FF0000\">encourage</span> <span style=\"background-color: #FF0000\">those</span> <span style=\"background-color: #FF0000\">around</span> <span style=\"background-color: #FF0000\">you</span> <span style=\"background-color: #FF0000\">,</span> <span style=\"background-color: #FF0000\">ensuring</span> <span style=\"background-color: #FF0000\">standards</span> <span style=\"background-color: #FF0000\">are</span> <span style=\"background-color: #FF0000\">maintained</span> <span style=\"background-color: #FF0000\">and</span> <span style=\"background-color: #FF0000\">area</span> <span style=\"background-color: #FF0000\">s</span> <span style=\"background-color: #FF0000\">for</span> <span style=\"background-color: #FF0000\">improvement</span> <span style=\"background-color: #FF0000\">are</span> <span style=\"background-color: #FF0000\">identified</span> <span style=\"background-color: #FF0000\">.</span> <span style=\"background-color: #FF0000\">you</span> <span style=\"background-color: #FF0000\">must</span> <span style=\"background-color: #FF0000\">be</span> <span style=\"background-color: #FF0000\">familiar</span> <span style=\"background-color: #FF0000\">with</span> <span style=\"background-color: #FF0000\">computerized</span> <span style=\"background-color: #FF0000\">maintenance</span> <span style=\"background-color: #FF0000\">management</span> <span style=\"background-color: #FF0000\">systems</span> <span style=\"background-color: #FF0000\">and</span> <span style=\"background-color: #FF0000\">a</span> <span style=\"background-color: #FF0000\">knowledge</span> <span style=\"background-color: #FF0000\">of</span> <span style=\"background-color: #FF0000\">sap</span> <span style=\"background-color: #FF0000\">,</span> <span style=\"background-color: #FF0000\">pm</span> <span style=\"background-color: #FF0000\">and</span> <span style=\"background-color: #FF0000\">mm</span> <span style=\"background-color: #FF0000\">would</span> <span style=\"background-color: #FF0000\">be</span> <span style=\"background-color: #FF0000\">advantageous</span> <span style=\"background-color: #FF0000\">.</span> <span style=\"background-color: #FF0000\">in</span> <span style=\"background-color: #FF0000\">return</span> <span style=\"background-color: #FF0000\">you</span> <span style=\"background-color: #FF0000\">will</span> <span style=\"background-color: #FF0000\">be</span> <span style=\"background-color: #FF0000\">offered</span> <span style=\"background-color: #FF0000\">a</span> <span style=\"background-color: #FF0000\">competitive</span> <span style=\"background-color: #FF0000\">salary</span> <span style=\"background-color: #FF0000\">and</span> <span style=\"background-color: #FF0000\">the</span> <span style=\"background-color: #FF0000\">opportunity</span> <span style=\"background-color: #FF0000\">to</span> <span style=\"background-color: #FF0000\">put</span> <span style=\"background-color: #FF0000\">your</span> <span style=\"background-color: #FF0000\">own</span> <span style=\"background-color: #FF0000\">stamp</span> <span style=\"background-color: #FF0000\">on</span> <span style=\"background-color: #FF0000\">this</span> <span style=\"background-color: #FF0000\">key</span> <span style=\"background-color: #FF0000\">role</span> <span style=\"background-color: #FF0000\">.</span> <span style=\"background-color: #FF0000\">this</span> <span style=\"background-color: #FF0000\">role</span> <span style=\"background-color: #FF0000\">is</span> <span style=\"background-color: #FF0000\">based</span> <span style=\"background-color: #FF0000\">in</span> <span style=\"background-color: #FF0000\">redcar</span> <span style=\"background-color: #FF0000\">,</span> <span style=\"background-color: #FF0000\">commutable</span> <span style=\"background-color: #FF0000\">from</span> <span style=\"background-color: #FF0000\">newcastle</span> <span style=\"background-color: #FF0000\">,</span> <span style=\"background-color: #FF0000\">durham</span> <span style=\"background-color: #FF0000\">,</span> <span style=\"background-color: #FF0000\">middlesbrough</span> <span style=\"background-color: #FF0000\">,</span> <span style=\"background-color: #FF0000\">stockton</span> <span style=\"background-color: #FF0000\">on</span> <span style=\"background-color: #FF0000\">tees</span> <span style=\"background-color: #FF0000\">and</span> <span style=\"background-color: #FF0000\">darlington</span> <span style=\"background-color: #FF1010\">.</span></p>"
      ]
     },
     "metadata": {},
     "output_type": "display_data"
    }
   ],
   "source": [
    "i = np.random.randint(len(data))\n",
    "print(\"Index:\", i)\n",
    "print(\"Salary (gbp):\", np.expm1(model.predict(make_batch(data.iloc[i: i+1]))[0, 0]))\n",
    "\n",
    "tokens_and_weights = explain(model, data.loc[i], \"Title\")\n",
    "draw_html([(tok, weight * 5) for tok, weight in tokens_and_weights], font_style='font-size:20px;');\n",
    "\n",
    "tokens_and_weights = explain(model, data.loc[i], \"FullDescription\")\n",
    "draw_html([(tok, weight * 10) for tok, weight in tokens_and_weights]);"
   ]
  },
  {
   "cell_type": "markdown",
   "metadata": {},
   "source": [
    "__Terrible start-up idea #1962:__ make a tool that automaticaly rephrases your job description (or CV) to meet salary expectations :)"
   ]
  },
  {
   "cell_type": "markdown",
   "metadata": {},
   "source": [
    "## Final task: improve over it\n",
    "\n",
    "Your main task is to use some of the tricks you've learned on the network and analyze if you can improve __validation MAE__. Try __at least 3 options__ from the list below for a passing grade. Write a short report about what you have tried. More ideas = more bonus points. \n",
    "\n",
    "__Please be serious:__ \" plot learning curves in MAE/epoch, compare models based on optimal performance, test one change at a time. You know the drill :)\n",
    "\n",
    "#### A) CNN architecture\n",
    "\n",
    "All the tricks you know about dense and convolutional neural networks apply here as well.\n",
    "* Dropout. Nuff said.\n",
    "* Batch Norm. This time it's `L.BatchNormalization`\n",
    "* Parallel convolution layers. The idea is that you apply several nn.Conv1d to the same embeddings and concatenate output channels.\n",
    "* More layers, more neurons, ya know...\n",
    "\n",
    "\n",
    "#### B) Play with pooling\n",
    "\n",
    "There's more than one way to perform pooling:\n",
    "* Max over time - our `L.GlobalMaxPool1D`\n",
    "* Average over time (excluding PAD)\n",
    "* Softmax-pooling:\n",
    "$$ out_{i, t} = \\sum_t {h_{i,t} \\cdot {{e ^ {h_{i, t}}} \\over \\sum_\\tau e ^ {h_{j, \\tau}} } }$$\n",
    "\n",
    "* Attentive pooling\n",
    "$$ out_{i, t} = \\sum_t {h_{i,t} \\cdot Attn(h_t)}$$\n",
    "\n",
    ", where $$ Attn(h_t) = {{e ^ {NN_{attn}(h_t)}} \\over \\sum_\\tau e ^ {NN_{attn}(h_\\tau)}}  $$\n",
    "and $NN_{attn}$ is a dense layer.\n",
    "\n",
    "The optimal score is usually achieved by concatenating several different poolings, including several attentive pooling with different $NN_{attn}$ (aka multi-headed attention).\n",
    "\n",
    "The catch is that keras layers do not inlude those toys. You will have to [write your own keras layer](https://keras.io/layers/writing-your-own-keras-layers/). Or use pure tensorflow, it might even be easier :)\n",
    "\n",
    "#### C) Fun with words\n",
    "\n",
    "It's not always a good idea to train embeddings from scratch. Here's a few tricks:\n",
    "\n",
    "* Use a pre-trained embeddings from `gensim.downloader.load`. See last lecture.\n",
    "* Start with pre-trained embeddings, then fine-tune them with gradient descent. You may or may not want to use __`.get_keras_embedding()`__ method for word2vec\n",
    "* Use the same embedding matrix in title and desc vectorizer\n",
    "\n",
    "\n",
    "#### D) Going recurrent\n",
    "\n",
    "We've already learned that recurrent networks can do cool stuff in sequence modelling. Turns out, they're not useless for classification as well. With some tricks of course..\n",
    "\n",
    "* Like convolutional layers, LSTM should be pooled into a fixed-size vector with some of the poolings.\n",
    "* Since you know all the text in advance, use bidirectional RNN\n",
    "  * Run one LSTM from left to right\n",
    "  * Run another in parallel from right to left \n",
    "  * Concatenate their output sequences along unit axis (dim=-1)\n",
    "\n",
    "* It might be good idea to mix convolutions and recurrent layers differently for title and description\n",
    "\n",
    "\n",
    "#### E) Optimizing seriously\n",
    "\n",
    "* You don't necessarily need 100 epochs. Use early stopping. If you've never done this before, take a look at [early stopping callback](https://keras.io/api/callbacks/early_stopping/).\n",
    "  * In short, train until you notice that validation\n",
    "  * Maintain the best-on-validation snapshot via `model.save(file_name)`\n",
    "  * Plotting learning curves is usually a good idea\n",
    "  \n",
    "Good luck! And may the force be with you!"
   ]
  },
  {
   "cell_type": "code",
   "execution_count": 32,
   "metadata": {},
   "outputs": [],
   "source": [
    "def plot_history(history):\n",
    "    plt.figure(figsize=(16, 7))\n",
    "    plt.subplot(121)\n",
    "    plt.yscale('log')\n",
    "    plt.plot(history.history['loss'])\n",
    "    plt.plot(history.history['val_loss'])\n",
    "    plt.subplot(122)\n",
    "    plt.yscale('log')\n",
    "    plt.plot(history.history['mean_absolute_error'])\n",
    "    plt.plot(history.history['val_mean_absolute_error'])\n",
    "    plt.show()"
   ]
  },
  {
   "cell_type": "code",
   "execution_count": 33,
   "metadata": {},
   "outputs": [],
   "source": [
    "def build_cnn_model(n_tokens=len(tokens), n_cat_features=len(categorical_vectorizer.vocabulary_), hid_size=64):\n",
    "    \"\"\" Build a model that maps three data sources to a single linear output: predicted log1p(salary) \"\"\"\n",
    "    \n",
    "    l_title = L.Input(shape=[None], name=\"Title\")\n",
    "    l_descr = L.Input(shape=[None], name=\"FullDescription\")\n",
    "    l_categ = L.Input(shape=[n_cat_features], name=\"Categorical\")\n",
    "    \n",
    "    f_title = L.Conv1D(8, kernel_size=3)(tf.expand_dims(l_title, -1))\n",
    "    f_title = L.BatchNormalization()(f_title)\n",
    "    f_title = L.ReLU()(f_title)\n",
    "    f_title = L.Conv1D(16, kernel_size=3)(f_title)\n",
    "    f_title = L.BatchNormalization()(f_title)\n",
    "    f_title = L.ReLU()(f_title)\n",
    "    f_title = L.Conv1D(32, kernel_size=3)(f_title)\n",
    "    f_title = L.GlobalAveragePooling1D()(f_title)\n",
    "    \n",
    "    f_descr = L.Conv1D(8, kernel_size=3)(tf.expand_dims(l_descr, -1))\n",
    "    f_title = L.BatchNormalization()(f_title)\n",
    "    f_title = L.ReLU()(f_title)\n",
    "    f_descr = L.Conv1D(16, kernel_size=3)(f_descr)\n",
    "    f_title = L.BatchNormalization()(f_title)\n",
    "    f_title = L.ReLU()(f_title)\n",
    "    f_descr = L.Conv1D(32, kernel_size=3)(f_descr)\n",
    "    f_descr = L.MaxPool1D()(f_descr)\n",
    "    f_descr = L.Conv1D(64, kernel_size=3)(f_descr)\n",
    "    f_title = L.BatchNormalization()(f_title)\n",
    "    f_title = L.ReLU()(f_title)\n",
    "    f_descr = L.Conv1D(128, kernel_size=3)(f_descr)\n",
    "    f_title = L.BatchNormalization()(f_title)\n",
    "    f_title = L.ReLU()(f_title)\n",
    "    f_descr = L.Conv1D(256, kernel_size=3)(f_descr)\n",
    "    f_descr = L.GlobalAveragePooling1D()(f_descr)\n",
    "    output_layer = L.Dense(1)(tf.concat([f_title, f_descr, l_categ], axis=1))\n",
    "    \n",
    "    model = keras.models.Model(inputs=[l_title, l_descr, l_categ], outputs=[output_layer])\n",
    "    model.compile('adam', 'mean_squared_error', metrics=['mean_absolute_error'])\n",
    "    return model"
   ]
  },
  {
   "cell_type": "code",
   "execution_count": 34,
   "metadata": {},
   "outputs": [
    {
     "name": "stdout",
     "output_type": "stream",
     "text": [
      "Model: \"model_2\"\n",
      "__________________________________________________________________________________________________\n",
      "Layer (type)                    Output Shape         Param #     Connected to                     \n",
      "==================================================================================================\n",
      "Title (InputLayer)              [(None, None)]       0                                            \n",
      "__________________________________________________________________________________________________\n",
      "tf.expand_dims_4 (TFOpLambda)   (None, None, 1)      0           Title[0][0]                      \n",
      "__________________________________________________________________________________________________\n",
      "conv1d (Conv1D)                 (None, None, 8)      32          tf.expand_dims_4[0][0]           \n",
      "__________________________________________________________________________________________________\n",
      "batch_normalization (BatchNorma (None, None, 8)      32          conv1d[0][0]                     \n",
      "__________________________________________________________________________________________________\n",
      "re_lu (ReLU)                    (None, None, 8)      0           batch_normalization[0][0]        \n",
      "__________________________________________________________________________________________________\n",
      "conv1d_1 (Conv1D)               (None, None, 16)     400         re_lu[0][0]                      \n",
      "__________________________________________________________________________________________________\n",
      "batch_normalization_1 (BatchNor (None, None, 16)     64          conv1d_1[0][0]                   \n",
      "__________________________________________________________________________________________________\n",
      "re_lu_1 (ReLU)                  (None, None, 16)     0           batch_normalization_1[0][0]      \n",
      "__________________________________________________________________________________________________\n",
      "conv1d_2 (Conv1D)               (None, None, 32)     1568        re_lu_1[0][0]                    \n",
      "__________________________________________________________________________________________________\n",
      "FullDescription (InputLayer)    [(None, None)]       0                                            \n",
      "__________________________________________________________________________________________________\n",
      "global_average_pooling1d (Globa (None, 32)           0           conv1d_2[0][0]                   \n",
      "__________________________________________________________________________________________________\n",
      "tf.expand_dims_5 (TFOpLambda)   (None, None, 1)      0           FullDescription[0][0]            \n",
      "__________________________________________________________________________________________________\n",
      "batch_normalization_2 (BatchNor (None, 32)           128         global_average_pooling1d[0][0]   \n",
      "__________________________________________________________________________________________________\n",
      "conv1d_3 (Conv1D)               (None, None, 8)      32          tf.expand_dims_5[0][0]           \n",
      "__________________________________________________________________________________________________\n",
      "re_lu_2 (ReLU)                  (None, 32)           0           batch_normalization_2[0][0]      \n",
      "__________________________________________________________________________________________________\n",
      "conv1d_4 (Conv1D)               (None, None, 16)     400         conv1d_3[0][0]                   \n",
      "__________________________________________________________________________________________________\n",
      "batch_normalization_3 (BatchNor (None, 32)           128         re_lu_2[0][0]                    \n",
      "__________________________________________________________________________________________________\n",
      "conv1d_5 (Conv1D)               (None, None, 32)     1568        conv1d_4[0][0]                   \n",
      "__________________________________________________________________________________________________\n",
      "re_lu_3 (ReLU)                  (None, 32)           0           batch_normalization_3[0][0]      \n",
      "__________________________________________________________________________________________________\n",
      "max_pooling1d (MaxPooling1D)    (None, None, 32)     0           conv1d_5[0][0]                   \n",
      "__________________________________________________________________________________________________\n",
      "batch_normalization_4 (BatchNor (None, 32)           128         re_lu_3[0][0]                    \n",
      "__________________________________________________________________________________________________\n",
      "conv1d_6 (Conv1D)               (None, None, 64)     6208        max_pooling1d[0][0]              \n",
      "__________________________________________________________________________________________________\n",
      "re_lu_4 (ReLU)                  (None, 32)           0           batch_normalization_4[0][0]      \n",
      "__________________________________________________________________________________________________\n",
      "conv1d_7 (Conv1D)               (None, None, 128)    24704       conv1d_6[0][0]                   \n",
      "__________________________________________________________________________________________________\n",
      "batch_normalization_5 (BatchNor (None, 32)           128         re_lu_4[0][0]                    \n",
      "__________________________________________________________________________________________________\n",
      "conv1d_8 (Conv1D)               (None, None, 256)    98560       conv1d_7[0][0]                   \n",
      "__________________________________________________________________________________________________\n",
      "re_lu_5 (ReLU)                  (None, 32)           0           batch_normalization_5[0][0]      \n",
      "__________________________________________________________________________________________________\n",
      "global_average_pooling1d_1 (Glo (None, 256)          0           conv1d_8[0][0]                   \n",
      "__________________________________________________________________________________________________\n",
      "Categorical (InputLayer)        [(None, 3768)]       0                                            \n",
      "__________________________________________________________________________________________________\n",
      "tf.concat_2 (TFOpLambda)        (None, 4056)         0           re_lu_5[0][0]                    \n",
      "                                                                 global_average_pooling1d_1[0][0] \n",
      "                                                                 Categorical[0][0]                \n",
      "__________________________________________________________________________________________________\n",
      "dense_2 (Dense)                 (None, 1)            4057        tf.concat_2[0][0]                \n",
      "==================================================================================================\n",
      "Total params: 138,137\n",
      "Trainable params: 137,833\n",
      "Non-trainable params: 304\n",
      "__________________________________________________________________________________________________\n",
      "Epoch 1/50\n",
      "100/100 [==============================] - 56s 548ms/step - loss: 363342.5696 - mean_absolute_error: 306.6133 - val_loss: 87.0922 - val_mean_absolute_error: 8.5589\n",
      "Epoch 2/50\n",
      "100/100 [==============================] - 34s 342ms/step - loss: 41.1569 - mean_absolute_error: 5.4028 - val_loss: 35.1936 - val_mean_absolute_error: 5.1428\n",
      "Epoch 3/50\n",
      "100/100 [==============================] - 27s 277ms/step - loss: 31.3356 - mean_absolute_error: 4.6860 - val_loss: 30.6442 - val_mean_absolute_error: 4.6481\n",
      "Epoch 4/50\n",
      "100/100 [==============================] - 24s 245ms/step - loss: 29.0990 - mean_absolute_error: 4.5017 - val_loss: 29.0454 - val_mean_absolute_error: 4.5388\n",
      "Epoch 5/50\n",
      "100/100 [==============================] - 24s 240ms/step - loss: 29.2029 - mean_absolute_error: 4.5261 - val_loss: 27.3338 - val_mean_absolute_error: 4.4271\n",
      "Epoch 6/50\n",
      "100/100 [==============================] - 21s 207ms/step - loss: 26.7513 - mean_absolute_error: 4.3654 - val_loss: 26.3828 - val_mean_absolute_error: 4.2481\n",
      "Epoch 7/50\n",
      "100/100 [==============================] - 22s 222ms/step - loss: 26.8544 - mean_absolute_error: 4.3285 - val_loss: 27.4406 - val_mean_absolute_error: 4.5946\n",
      "Epoch 8/50\n",
      "100/100 [==============================] - 20s 199ms/step - loss: 25.5903 - mean_absolute_error: 4.2553 - val_loss: 24.1672 - val_mean_absolute_error: 4.0747\n",
      "Epoch 9/50\n"
     ]
    },
    {
     "name": "stdout",
     "output_type": "stream",
     "text": [
      "100/100 [==============================] - 15s 154ms/step - loss: 24.5137 - mean_absolute_error: 4.1228 - val_loss: 29.0590 - val_mean_absolute_error: 4.8316\n",
      "Epoch 10/50\n",
      "100/100 [==============================] - 15s 156ms/step - loss: 23.8493 - mean_absolute_error: 4.1150 - val_loss: 23.3749 - val_mean_absolute_error: 4.1924\n",
      "Epoch 11/50\n",
      "100/100 [==============================] - 14s 141ms/step - loss: 22.3451 - mean_absolute_error: 3.9617 - val_loss: 25.1298 - val_mean_absolute_error: 4.4454\n",
      "Epoch 12/50\n",
      "100/100 [==============================] - 15s 147ms/step - loss: 22.0465 - mean_absolute_error: 3.9498 - val_loss: 21.3977 - val_mean_absolute_error: 4.0009\n",
      "Epoch 13/50\n",
      "100/100 [==============================] - 15s 146ms/step - loss: 20.2872 - mean_absolute_error: 3.7967 - val_loss: 25.6925 - val_mean_absolute_error: 4.5665\n",
      "Epoch 14/50\n",
      "100/100 [==============================] - 14s 141ms/step - loss: 18.9238 - mean_absolute_error: 3.6698 - val_loss: 19.3883 - val_mean_absolute_error: 3.5065\n",
      "Epoch 15/50\n",
      "100/100 [==============================] - 14s 143ms/step - loss: 17.2620 - mean_absolute_error: 3.4338 - val_loss: 17.0525 - val_mean_absolute_error: 3.5646\n",
      "Epoch 16/50\n",
      "100/100 [==============================] - 14s 144ms/step - loss: 14.6287 - mean_absolute_error: 3.1714 - val_loss: 20.1585 - val_mean_absolute_error: 4.0391\n",
      "Epoch 17/50\n",
      "100/100 [==============================] - 14s 139ms/step - loss: 14.4053 - mean_absolute_error: 3.1445 - val_loss: 17.2728 - val_mean_absolute_error: 3.6998\n",
      "Epoch 18/50\n",
      "100/100 [==============================] - 14s 139ms/step - loss: 13.1552 - mean_absolute_error: 3.0039 - val_loss: 11.4333 - val_mean_absolute_error: 2.6808\n",
      "Epoch 19/50\n",
      "100/100 [==============================] - 14s 138ms/step - loss: 11.1976 - mean_absolute_error: 2.7440 - val_loss: 11.3243 - val_mean_absolute_error: 2.6012\n",
      "Epoch 20/50\n",
      "100/100 [==============================] - 14s 138ms/step - loss: 9.1781 - mean_absolute_error: 2.4646 - val_loss: 7.2036 - val_mean_absolute_error: 2.2087\n",
      "Epoch 21/50\n",
      "100/100 [==============================] - 14s 139ms/step - loss: 9.6963 - mean_absolute_error: 2.5259 - val_loss: 7.7191 - val_mean_absolute_error: 2.1775\n",
      "Epoch 22/50\n",
      "100/100 [==============================] - 13s 135ms/step - loss: 7.7861 - mean_absolute_error: 2.2538 - val_loss: 7.1097 - val_mean_absolute_error: 2.0110\n",
      "Epoch 23/50\n",
      "100/100 [==============================] - 14s 143ms/step - loss: 7.2652 - mean_absolute_error: 2.1414 - val_loss: 4.5118 - val_mean_absolute_error: 1.6751\n",
      "Epoch 24/50\n",
      "100/100 [==============================] - 14s 142ms/step - loss: 6.2124 - mean_absolute_error: 1.9934 - val_loss: 5.9061 - val_mean_absolute_error: 1.8294\n",
      "Epoch 25/50\n",
      "100/100 [==============================] - 14s 141ms/step - loss: 4.7534 - mean_absolute_error: 1.7438 - val_loss: 3.6940 - val_mean_absolute_error: 1.5013\n",
      "Epoch 26/50\n",
      "100/100 [==============================] - 14s 140ms/step - loss: 4.1339 - mean_absolute_error: 1.6155 - val_loss: 4.9882 - val_mean_absolute_error: 1.7642\n",
      "Epoch 27/50\n",
      "100/100 [==============================] - 14s 137ms/step - loss: 3.5725 - mean_absolute_error: 1.4952 - val_loss: 4.2892 - val_mean_absolute_error: 1.5957\n",
      "Epoch 28/50\n",
      "100/100 [==============================] - 14s 140ms/step - loss: 3.5306 - mean_absolute_error: 1.4721 - val_loss: 3.2970 - val_mean_absolute_error: 1.4112\n",
      "Epoch 29/50\n",
      "100/100 [==============================] - 14s 137ms/step - loss: 3.9810 - mean_absolute_error: 1.5456 - val_loss: 2.7840 - val_mean_absolute_error: 1.3065\n",
      "Epoch 30/50\n",
      "100/100 [==============================] - 13s 136ms/step - loss: 2.5314 - mean_absolute_error: 1.2437 - val_loss: 3.4618 - val_mean_absolute_error: 1.4227\n",
      "Epoch 31/50\n",
      "100/100 [==============================] - 14s 144ms/step - loss: 3.2085 - mean_absolute_error: 1.3911 - val_loss: 5.0696 - val_mean_absolute_error: 1.7126\n",
      "Epoch 32/50\n",
      "100/100 [==============================] - 14s 140ms/step - loss: 2.5053 - mean_absolute_error: 1.2315 - val_loss: 6.8065 - val_mean_absolute_error: 2.1189\n",
      "Epoch 33/50\n",
      "100/100 [==============================] - 14s 137ms/step - loss: 3.4593 - mean_absolute_error: 1.4386 - val_loss: 2.5880 - val_mean_absolute_error: 1.2427\n",
      "Epoch 34/50\n",
      "100/100 [==============================] - 14s 138ms/step - loss: 2.6794 - mean_absolute_error: 1.2509 - val_loss: 2.3679 - val_mean_absolute_error: 1.2011\n",
      "Epoch 35/50\n",
      "100/100 [==============================] - 14s 143ms/step - loss: 1.8476 - mean_absolute_error: 1.0671 - val_loss: 4.3479 - val_mean_absolute_error: 1.6918\n",
      "Epoch 36/50\n",
      "100/100 [==============================] - 14s 139ms/step - loss: 1.9362 - mean_absolute_error: 1.0767 - val_loss: 5.3159 - val_mean_absolute_error: 1.9177\n",
      "Epoch 37/50\n",
      "100/100 [==============================] - 14s 139ms/step - loss: 1.6856 - mean_absolute_error: 1.0064 - val_loss: 2.1194 - val_mean_absolute_error: 1.1018\n",
      "Epoch 38/50\n",
      "100/100 [==============================] - 14s 136ms/step - loss: 1.3994 - mean_absolute_error: 0.9228 - val_loss: 1.8260 - val_mean_absolute_error: 1.0403\n",
      "Epoch 39/50\n",
      "100/100 [==============================] - 14s 140ms/step - loss: 1.2069 - mean_absolute_error: 0.8620 - val_loss: 2.5847 - val_mean_absolute_error: 1.2456\n",
      "Epoch 40/50\n",
      "100/100 [==============================] - 14s 137ms/step - loss: 1.2738 - mean_absolute_error: 0.8807 - val_loss: 1.7811 - val_mean_absolute_error: 1.0034\n",
      "Epoch 41/50\n",
      "100/100 [==============================] - 14s 139ms/step - loss: 1.5061 - mean_absolute_error: 0.9533 - val_loss: 1.8742 - val_mean_absolute_error: 1.0808\n",
      "Epoch 42/50\n",
      "100/100 [==============================] - 14s 138ms/step - loss: 1.0184 - mean_absolute_error: 0.7876 - val_loss: 3.4638 - val_mean_absolute_error: 1.5426\n",
      "Epoch 43/50\n",
      "100/100 [==============================] - 14s 143ms/step - loss: 1.9403 - mean_absolute_error: 1.0681 - val_loss: 1.5805 - val_mean_absolute_error: 0.9852\n",
      "Epoch 44/50\n",
      "100/100 [==============================] - 14s 140ms/step - loss: 1.0417 - mean_absolute_error: 0.7938 - val_loss: 2.4614 - val_mean_absolute_error: 1.1928\n",
      "Epoch 45/50\n",
      "100/100 [==============================] - 14s 137ms/step - loss: 1.6565 - mean_absolute_error: 0.9863 - val_loss: 1.2332 - val_mean_absolute_error: 0.8394\n",
      "Epoch 46/50\n",
      "100/100 [==============================] - 14s 141ms/step - loss: 0.8012 - mean_absolute_error: 0.7012 - val_loss: 2.1009 - val_mean_absolute_error: 1.1257\n",
      "Epoch 47/50\n",
      "100/100 [==============================] - 14s 138ms/step - loss: 0.7460 - mean_absolute_error: 0.6742 - val_loss: 2.0833 - val_mean_absolute_error: 1.0319\n",
      "Epoch 48/50\n",
      "100/100 [==============================] - 14s 138ms/step - loss: 1.0682 - mean_absolute_error: 0.8026 - val_loss: 1.9471 - val_mean_absolute_error: 1.0776\n",
      "Epoch 49/50\n",
      "100/100 [==============================] - 14s 138ms/step - loss: 0.7841 - mean_absolute_error: 0.6897 - val_loss: 1.6415 - val_mean_absolute_error: 0.9526\n",
      "Epoch 50/50\n",
      "100/100 [==============================] - 14s 139ms/step - loss: 0.8132 - mean_absolute_error: 0.7005 - val_loss: 2.0330 - val_mean_absolute_error: 1.0542\n"
     ]
    },
    {
     "data": {
      "image/png": "[encoded data removed]",
      "text/plain": [
       "<Figure size 1152x504 with 2 Axes>"
      ]
     },
     "metadata": {
      "needs_background": "light"
     },
     "output_type": "display_data"
    }
   ],
   "source": [
    "batch_size = 256\n",
    "epochs = 50\n",
    "steps_per_epoch = 100\n",
    "\n",
    "early_stop = keras.callbacks.EarlyStopping(\n",
    "    monitor=\"val_mean_absolute_error\",\n",
    "    patience=8,\n",
    "    restore_best_weights=True\n",
    ")\n",
    "checkpoint = keras.callbacks.ModelCheckpoint(\n",
    "    filepath='./cnn_model.hdf5',\n",
    "    monitor=\"val_mean_absolute_error\"\n",
    ")\n",
    "model = build_cnn_model()\n",
    "model.summary()\n",
    "cnn_history = model.fit_generator(\n",
    "    iterate_minibatches(data_train, batch_size, cycle=True, word_dropout=0.05), \n",
    "    epochs=epochs, steps_per_epoch=steps_per_epoch,\n",
    "    validation_data=iterate_minibatches(data_val, batch_size, cycle=True),\n",
    "    validation_steps=data_val.shape[0] // batch_size,\n",
    "    callbacks=[early_stop, checkpoint]\n",
    ")\n",
    "plot_history(cnn_history)"
   ]
  },
  {
   "cell_type": "code",
   "execution_count": 35,
   "metadata": {},
   "outputs": [],
   "source": [
    "def build_brnn_model(n_tokens=len(tokens), n_cat_features=len(categorical_vectorizer.vocabulary_), hid_size=64):\n",
    "    \"\"\" Build a model that maps three data sources to a single linear output: predicted log1p(salary) \"\"\"\n",
    "    \n",
    "    l_title = L.Input(shape=[None], name=\"Title\")\n",
    "    l_descr = L.Input(shape=[None], name=\"FullDescription\")\n",
    "    l_categ = L.Input(shape=[n_cat_features], name=\"Categorical\")\n",
    "    \n",
    "    f_title = L.LSTM(hid_size)(tf.expand_dims(l_title, -1))\n",
    "    fr_title = L.LSTM(hid_size, go_backwards=True)(tf.expand_dims(l_title, -1))\n",
    "    f_descr = L.LSTM(hid_size)(tf.expand_dims(l_descr, -1))\n",
    "    fr_descr = L.LSTM(hid_size, go_backwards=True)(tf.expand_dims(l_title, -1))\n",
    "    output_layer = L.Dense(1)(\n",
    "        tf.concat([f_title, fr_title, \n",
    "        f_descr, fr_descr, \n",
    "        l_categ], axis=1)\n",
    "    )\n",
    "\n",
    "    model = keras.models.Model(inputs=[l_title, l_descr, l_categ], outputs=[output_layer])\n",
    "    model.compile('adam', 'mean_squared_error', metrics=['mean_absolute_error'])\n",
    "    return model"
   ]
  },
  {
   "cell_type": "code",
   "execution_count": 36,
   "metadata": {},
   "outputs": [
    {
     "name": "stdout",
     "output_type": "stream",
     "text": [
      "Model: \"model_3\"\n",
      "__________________________________________________________________________________________________\n",
      "Layer (type)                    Output Shape         Param #     Connected to                     \n",
      "==================================================================================================\n",
      "Title (InputLayer)              [(None, None)]       0                                            \n",
      "__________________________________________________________________________________________________\n",
      "FullDescription (InputLayer)    [(None, None)]       0                                            \n",
      "__________________________________________________________________________________________________\n",
      "tf.expand_dims_6 (TFOpLambda)   (None, None, 1)      0           Title[0][0]                      \n",
      "__________________________________________________________________________________________________\n",
      "tf.expand_dims_7 (TFOpLambda)   (None, None, 1)      0           Title[0][0]                      \n",
      "__________________________________________________________________________________________________\n",
      "tf.expand_dims_8 (TFOpLambda)   (None, None, 1)      0           FullDescription[0][0]            \n",
      "__________________________________________________________________________________________________\n",
      "tf.expand_dims_9 (TFOpLambda)   (None, None, 1)      0           Title[0][0]                      \n",
      "__________________________________________________________________________________________________\n",
      "lstm_4 (LSTM)                   (None, 64)           16896       tf.expand_dims_6[0][0]           \n",
      "__________________________________________________________________________________________________\n",
      "lstm_5 (LSTM)                   (None, 64)           16896       tf.expand_dims_7[0][0]           \n",
      "__________________________________________________________________________________________________\n",
      "lstm_6 (LSTM)                   (None, 64)           16896       tf.expand_dims_8[0][0]           \n",
      "__________________________________________________________________________________________________\n",
      "lstm_7 (LSTM)                   (None, 64)           16896       tf.expand_dims_9[0][0]           \n",
      "__________________________________________________________________________________________________\n",
      "Categorical (InputLayer)        [(None, 3768)]       0                                            \n",
      "__________________________________________________________________________________________________\n",
      "tf.concat_3 (TFOpLambda)        (None, 4024)         0           lstm_4[0][0]                     \n",
      "                                                                 lstm_5[0][0]                     \n",
      "                                                                 lstm_6[0][0]                     \n",
      "                                                                 lstm_7[0][0]                     \n",
      "                                                                 Categorical[0][0]                \n",
      "__________________________________________________________________________________________________\n",
      "dense_3 (Dense)                 (None, 1)            4025        tf.concat_3[0][0]                \n",
      "==================================================================================================\n",
      "Total params: 71,609\n",
      "Trainable params: 71,609\n",
      "Non-trainable params: 0\n",
      "__________________________________________________________________________________________________\n",
      "Epoch 1/30\n",
      "100/100 [==============================] - 20s 158ms/step - loss: 57.6131 - mean_absolute_error: 6.6239 - val_loss: 0.3297 - val_mean_absolute_error: 0.4316\n",
      "Epoch 2/30\n",
      "100/100 [==============================] - 15s 150ms/step - loss: 0.3003 - mean_absolute_error: 0.4186 - val_loss: 0.2808 - val_mean_absolute_error: 0.4105\n",
      "Epoch 3/30\n",
      "100/100 [==============================] - 15s 150ms/step - loss: 0.2734 - mean_absolute_error: 0.4073 - val_loss: 0.2607 - val_mean_absolute_error: 0.3999\n",
      "Epoch 4/30\n",
      "100/100 [==============================] - 15s 152ms/step - loss: 0.2694 - mean_absolute_error: 0.4076 - val_loss: 0.2425 - val_mean_absolute_error: 0.3884\n",
      "Epoch 5/30\n",
      "100/100 [==============================] - 15s 147ms/step - loss: 0.2406 - mean_absolute_error: 0.3878 - val_loss: 0.2316 - val_mean_absolute_error: 0.3808\n",
      "Epoch 6/30\n",
      "100/100 [==============================] - 15s 152ms/step - loss: 0.2237 - mean_absolute_error: 0.3766 - val_loss: 0.2195 - val_mean_absolute_error: 0.3723\n",
      "Epoch 7/30\n",
      "100/100 [==============================] - 15s 148ms/step - loss: 0.2189 - mean_absolute_error: 0.3712 - val_loss: 0.2113 - val_mean_absolute_error: 0.3650\n",
      "Epoch 8/30\n",
      "100/100 [==============================] - 15s 149ms/step - loss: 0.2106 - mean_absolute_error: 0.3640 - val_loss: 0.2025 - val_mean_absolute_error: 0.3576\n",
      "Epoch 9/30\n",
      "100/100 [==============================] - 15s 149ms/step - loss: 0.2000 - mean_absolute_error: 0.3555 - val_loss: 0.1975 - val_mean_absolute_error: 0.3515\n",
      "Epoch 10/30\n",
      "100/100 [==============================] - 15s 151ms/step - loss: 0.1991 - mean_absolute_error: 0.3544 - val_loss: 0.1887 - val_mean_absolute_error: 0.3446\n",
      "Epoch 11/30\n",
      "100/100 [==============================] - 15s 150ms/step - loss: 0.1867 - mean_absolute_error: 0.3429 - val_loss: 0.1830 - val_mean_absolute_error: 0.3400\n",
      "Epoch 12/30\n",
      "100/100 [==============================] - 15s 149ms/step - loss: 0.1813 - mean_absolute_error: 0.3372 - val_loss: 0.1782 - val_mean_absolute_error: 0.3344\n",
      "Epoch 13/30\n",
      "100/100 [==============================] - 15s 150ms/step - loss: 0.1794 - mean_absolute_error: 0.3352 - val_loss: 0.1749 - val_mean_absolute_error: 0.3299\n",
      "Epoch 14/30\n",
      "100/100 [==============================] - 15s 150ms/step - loss: 0.1728 - mean_absolute_error: 0.3295 - val_loss: 0.1708 - val_mean_absolute_error: 0.3260\n",
      "Epoch 15/30\n",
      "100/100 [==============================] - 15s 152ms/step - loss: 0.1631 - mean_absolute_error: 0.3198 - val_loss: 0.1670 - val_mean_absolute_error: 0.3226\n",
      "Epoch 16/30\n",
      "100/100 [==============================] - 15s 149ms/step - loss: 0.1662 - mean_absolute_error: 0.3208 - val_loss: 0.1651 - val_mean_absolute_error: 0.3198\n",
      "Epoch 17/30\n",
      "100/100 [==============================] - 15s 149ms/step - loss: 0.1608 - mean_absolute_error: 0.3156 - val_loss: 0.1622 - val_mean_absolute_error: 0.3187\n",
      "Epoch 18/30\n",
      "100/100 [==============================] - 15s 149ms/step - loss: 0.1598 - mean_absolute_error: 0.3136 - val_loss: 0.1596 - val_mean_absolute_error: 0.3147\n",
      "Epoch 19/30\n",
      "100/100 [==============================] - 15s 150ms/step - loss: 0.1574 - mean_absolute_error: 0.3126 - val_loss: 0.1586 - val_mean_absolute_error: 0.3135\n",
      "Epoch 20/30\n",
      "100/100 [==============================] - 15s 150ms/step - loss: 0.1563 - mean_absolute_error: 0.3109 - val_loss: 0.1568 - val_mean_absolute_error: 0.3107\n",
      "Epoch 21/30\n",
      "100/100 [==============================] - 15s 152ms/step - loss: 0.1567 - mean_absolute_error: 0.3103 - val_loss: 0.1550 - val_mean_absolute_error: 0.3096\n",
      "Epoch 22/30\n",
      "100/100 [==============================] - 15s 149ms/step - loss: 0.1568 - mean_absolute_error: 0.3103 - val_loss: 0.1544 - val_mean_absolute_error: 0.3090\n",
      "Epoch 23/30\n",
      "100/100 [==============================] - 15s 152ms/step - loss: 0.1528 - mean_absolute_error: 0.3084 - val_loss: 0.1542 - val_mean_absolute_error: 0.3071\n",
      "Epoch 24/30\n",
      "100/100 [==============================] - 15s 150ms/step - loss: 0.1576 - mean_absolute_error: 0.3103 - val_loss: 0.1523 - val_mean_absolute_error: 0.3056\n",
      "Epoch 25/30\n",
      "100/100 [==============================] - 15s 150ms/step - loss: 0.1510 - mean_absolute_error: 0.3035 - val_loss: 0.1530 - val_mean_absolute_error: 0.3055\n",
      "Epoch 26/30\n",
      "100/100 [==============================] - 15s 152ms/step - loss: 0.1507 - mean_absolute_error: 0.3031 - val_loss: 0.1526 - val_mean_absolute_error: 0.3049\n",
      "Epoch 27/30\n",
      "100/100 [==============================] - 15s 150ms/step - loss: 0.1499 - mean_absolute_error: 0.3021 - val_loss: 0.1518 - val_mean_absolute_error: 0.3062\n",
      "Epoch 28/30\n",
      "100/100 [==============================] - 15s 148ms/step - loss: 0.1508 - mean_absolute_error: 0.3026 - val_loss: 0.1501 - val_mean_absolute_error: 0.3028\n",
      "Epoch 29/30\n"
     ]
    },
    {
     "name": "stdout",
     "output_type": "stream",
     "text": [
      "100/100 [==============================] - 15s 151ms/step - loss: 0.1542 - mean_absolute_error: 0.3073 - val_loss: 0.1505 - val_mean_absolute_error: 0.3043\n",
      "Epoch 30/30\n",
      "100/100 [==============================] - 15s 149ms/step - loss: 0.1472 - mean_absolute_error: 0.2971 - val_loss: 0.1502 - val_mean_absolute_error: 0.3024\n"
     ]
    },
    {
     "data": {
      "image/png": "[encoded data removed]",
      "text/plain": [
       "<Figure size 1152x504 with 2 Axes>"
      ]
     },
     "metadata": {
      "needs_background": "light"
     },
     "output_type": "display_data"
    }
   ],
   "source": [
    "batch_size = 256\n",
    "epochs = 30\n",
    "steps_per_epoch = 100\n",
    "\n",
    "early_stop = keras.callbacks.EarlyStopping(\n",
    "    monitor=\"val_mean_absolute_error\",\n",
    "    patience=5,\n",
    "    restore_best_weights=True\n",
    ")\n",
    "checkpoint = keras.callbacks.ModelCheckpoint(\n",
    "    filepath='./brnn_model.hdf5',\n",
    "    monitor=\"val_mean_absolute_error\"\n",
    ")\n",
    "model = build_brnn_model()\n",
    "model.summary()\n",
    "brnn_history = model.fit_generator(\n",
    "    iterate_minibatches(data_train, batch_size, cycle=True, word_dropout=0.05), \n",
    "    epochs=epochs, steps_per_epoch=steps_per_epoch,\n",
    "    validation_data=iterate_minibatches(data_val, batch_size, cycle=True),\n",
    "    validation_steps=data_val.shape[0] // batch_size,\n",
    "    callbacks=[early_stop, checkpoint]\n",
    ")\n",
    "plot_history(brnn_history)"
   ]
  },
  {
   "cell_type": "code",
   "execution_count": 37,
   "metadata": {},
   "outputs": [
    {
     "name": "stderr",
     "output_type": "stream",
     "text": [
      "/home/rafasus/anaconda3/lib/python3.8/site-packages/gensim/similarities/__init__.py:15: UserWarning: The gensim.similarities.levenshtein submodule is disabled, because the optional Levenshtein package <https://pypi.org/project/python-Levenshtein/> is unavailable. Install Levenhstein (e.g. `pip install python-Levenshtein`) to suppress this warning.\n",
      "  warnings.warn(msg)\n"
     ]
    }
   ],
   "source": [
    "import gensim.downloader \n",
    "embeddings = gensim.downloader.load(\"fasttext-wiki-news-subwords-300\")\n",
    "\n",
    "def vectorize_sum(comment):\n",
    "    \"\"\"\n",
    "    implement a function that converts preprocessed comment to a sum of token vectors\n",
    "    \"\"\"\n",
    "    embedding_dim = embeddings.vectors.shape[1]\n",
    "    features = np.zeros([embedding_dim], dtype='float32')\n",
    "    \n",
    "    for word in preprocess(comment).split():\n",
    "        if word in embeddings.key_to_index:\n",
    "            features += embeddings.vectors[embeddings.key_to_index[word]]\n",
    "    \n",
    "    return features"
   ]
  },
  {
   "cell_type": "code",
   "execution_count": 38,
   "metadata": {},
   "outputs": [],
   "source": [
    "def make_batch(data, max_len=None, word_dropout=0):\n",
    "    \"\"\"\n",
    "    Creates a keras-friendly dict from the batch data.\n",
    "    :param word_dropout: replaces token index with UNK_IX with this probability\n",
    "    :returns: a dict with {'title' : int64[batch, title_max_len]\n",
    "    \"\"\"\n",
    "    batch = {}\n",
    "    batch[\"Title\"] = as_matrix(\n",
    "        np.stack([vectorize_sum(text) for text in data[\"Title\"].values]))\n",
    "    batch[\"FullDescription\"] = as_matrix(\n",
    "        np.stack([vectorize_sum(text) for text in data[\"FullDescription\"].values]))\n",
    "    batch['Categorical'] = categorical_vectorizer.transform(data[categorical_columns].apply(dict, axis=1))\n",
    "    \n",
    "    if word_dropout != 0:\n",
    "        batch[\"FullDescription\"] = apply_word_dropout(batch[\"FullDescription\"], 1. - word_dropout)\n",
    "    \n",
    "    if target_column in data.columns:\n",
    "        batch[target_column] = data[target_column].values\n",
    "    \n",
    "    return batch\n",
    "\n",
    "def apply_word_dropout(matrix, keep_prop, replace_with=UNK_IX, pad_ix=PAD_IX,):\n",
    "    dropout_mask = np.random.choice(2, np.shape(matrix), p=[keep_prop, 1 - keep_prop])\n",
    "    dropout_mask &= matrix != pad_ix\n",
    "    return np.choose(dropout_mask, [matrix, np.full_like(matrix, replace_with)])"
   ]
  },
  {
   "cell_type": "code",
   "execution_count": 39,
   "metadata": {},
   "outputs": [],
   "source": [
    "def build_dense_model(n_tokens=len(tokens), n_cat_features=len(categorical_vectorizer.vocabulary_), hid_size=64):\n",
    "    \"\"\" Build a model that maps three data sources to a single linear output: predicted log1p(salary) \"\"\"\n",
    "    \n",
    "    l_title = L.Input(shape=[300], name=\"Title\")\n",
    "    l_descr = L.Input(shape=[300], name=\"FullDescription\")\n",
    "    l_categ = L.Input(shape=[n_cat_features], name=\"Categorical\")\n",
    "    \n",
    "    f_title = L.Dense(hid_size)(l_title)\n",
    "    f_descr = L.Dense(hid_size)(l_descr)\n",
    "    output_layer = L.Dense(hid_size)(tf.concat([f_title, f_descr,l_categ], axis=1))\n",
    "    output_layer = L.Dense(1)(output_layer)\n",
    "\n",
    "    model = keras.models.Model(inputs=[l_title, l_descr, l_categ], outputs=[output_layer])\n",
    "    model.compile('adam', 'mean_squared_error', metrics=['mean_absolute_error'])\n",
    "    return model"
   ]
  },
  {
   "cell_type": "code",
   "execution_count": 40,
   "metadata": {},
   "outputs": [
    {
     "name": "stdout",
     "output_type": "stream",
     "text": [
      "Model: \"model_4\"\n",
      "__________________________________________________________________________________________________\n",
      "Layer (type)                    Output Shape         Param #     Connected to                     \n",
      "==================================================================================================\n",
      "Title (InputLayer)              [(None, 300)]        0                                            \n",
      "__________________________________________________________________________________________________\n",
      "FullDescription (InputLayer)    [(None, 300)]        0                                            \n",
      "__________________________________________________________________________________________________\n",
      "dense_4 (Dense)                 (None, 64)           19264       Title[0][0]                      \n",
      "__________________________________________________________________________________________________\n",
      "dense_5 (Dense)                 (None, 64)           19264       FullDescription[0][0]            \n",
      "__________________________________________________________________________________________________\n",
      "Categorical (InputLayer)        [(None, 3768)]       0                                            \n",
      "__________________________________________________________________________________________________\n",
      "tf.concat_4 (TFOpLambda)        (None, 3896)         0           dense_4[0][0]                    \n",
      "                                                                 dense_5[0][0]                    \n",
      "                                                                 Categorical[0][0]                \n",
      "__________________________________________________________________________________________________\n",
      "dense_6 (Dense)                 (None, 64)           249408      tf.concat_4[0][0]                \n",
      "__________________________________________________________________________________________________\n",
      "dense_7 (Dense)                 (None, 1)            65          dense_6[0][0]                    \n",
      "==================================================================================================\n",
      "Total params: 288,001\n",
      "Trainable params: 288,001\n",
      "Non-trainable params: 0\n",
      "__________________________________________________________________________________________________\n",
      "Epoch 1/30\n",
      "100/100 [==============================] - 51s 511ms/step - loss: 61.8457 - mean_absolute_error: 7.0538 - val_loss: 0.2790 - val_mean_absolute_error: 0.4235\n",
      "Epoch 2/30\n",
      "100/100 [==============================] - 51s 511ms/step - loss: 0.2470 - mean_absolute_error: 0.3993 - val_loss: 0.2063 - val_mean_absolute_error: 0.3629\n",
      "Epoch 3/30\n",
      "100/100 [==============================] - 50s 510ms/step - loss: 0.2010 - mean_absolute_error: 0.3580 - val_loss: 0.1797 - val_mean_absolute_error: 0.3364\n",
      "Epoch 4/30\n",
      "100/100 [==============================] - 50s 507ms/step - loss: 0.1743 - mean_absolute_error: 0.3289 - val_loss: 0.1657 - val_mean_absolute_error: 0.3209\n",
      "Epoch 5/30\n",
      "100/100 [==============================] - 50s 509ms/step - loss: 0.1683 - mean_absolute_error: 0.3216 - val_loss: 0.1587 - val_mean_absolute_error: 0.3127\n",
      "Epoch 6/30\n",
      "100/100 [==============================] - 51s 510ms/step - loss: 0.1558 - mean_absolute_error: 0.3083 - val_loss: 0.1540 - val_mean_absolute_error: 0.3077 mean_a\n",
      "Epoch 7/30\n",
      "100/100 [==============================] - 51s 514ms/step - loss: 0.1569 - mean_absolute_error: 0.3098 - val_loss: 0.1517 - val_mean_absolute_error: 0.3049\n",
      "Epoch 8/30\n",
      "100/100 [==============================] - 51s 512ms/step - loss: 0.1489 - mean_absolute_error: 0.3005 - val_loss: 0.1508 - val_mean_absolute_error: 0.3038\n",
      "Epoch 9/30\n",
      "100/100 [==============================] - 51s 512ms/step - loss: 0.1499 - mean_absolute_error: 0.3002 - val_loss: 0.1505 - val_mean_absolute_error: 0.3031\n",
      "Epoch 10/30\n",
      "100/100 [==============================] - 51s 517ms/step - loss: 0.1466 - mean_absolute_error: 0.2980 - val_loss: 0.1500 - val_mean_absolute_error: 0.3026\n",
      "Epoch 11/30\n",
      "100/100 [==============================] - 51s 512ms/step - loss: 0.1493 - mean_absolute_error: 0.3024 - val_loss: 0.1503 - val_mean_absolute_error: 0.3035\n",
      "Epoch 12/30\n",
      "100/100 [==============================] - 51s 512ms/step - loss: 0.1525 - mean_absolute_error: 0.3043 - val_loss: 0.1497 - val_mean_absolute_error: 0.3020\n",
      "Epoch 13/30\n",
      "100/100 [==============================] - 51s 515ms/step - loss: 0.1520 - mean_absolute_error: 0.3027 - val_loss: 0.1496 - val_mean_absolute_error: 0.3022mean_absolute_error:  - ETA: 2s - loss: 0.1522 - mean_absol\n",
      "Epoch 14/30\n",
      "100/100 [==============================] - 51s 512ms/step - loss: 0.1480 - mean_absolute_error: 0.2999 - val_loss: 0.1497 - val_mean_absolute_error: 0.3028ean_absolute_error: 0.299\n",
      "Epoch 15/30\n",
      "100/100 [==============================] - 51s 513ms/step - loss: 0.1547 - mean_absolute_error: 0.3062 - val_loss: 0.1503 - val_mean_absolute_error: 0.3034\n",
      "Epoch 16/30\n",
      "100/100 [==============================] - 51s 511ms/step - loss: 0.1540 - mean_absolute_error: 0.3039 - val_loss: 0.1504 - val_mean_absolute_error: 0.3032\n",
      "Epoch 17/30\n",
      "100/100 [==============================] - 51s 515ms/step - loss: 0.1484 - mean_absolute_error: 0.3010 - val_loss: 0.1507 - val_mean_absolute_error: 0.3036\n"
     ]
    },
    {
     "data": {
      "image/png": "[encoded data removed]",
      "text/plain": [
       "<Figure size 1152x504 with 2 Axes>"
      ]
     },
     "metadata": {
      "needs_background": "light"
     },
     "output_type": "display_data"
    }
   ],
   "source": [
    "batch_size = 256\n",
    "epochs = 30\n",
    "steps_per_epoch = 100\n",
    "\n",
    "early_stop = keras.callbacks.EarlyStopping(\n",
    "    monitor=\"val_mean_absolute_error\",\n",
    "    patience=5,\n",
    "    restore_best_weights=True\n",
    ")\n",
    "checkpoint = keras.callbacks.ModelCheckpoint(\n",
    "    filepath='./dense_model.hdf5',\n",
    "    monitor=\"val_mean_absolute_error\"\n",
    ")\n",
    "model = build_dense_model()\n",
    "model.summary()\n",
    "dense_history = model.fit_generator(\n",
    "    iterate_minibatches(data_train, batch_size, cycle=True, word_dropout=0.05), \n",
    "    epochs=epochs, steps_per_epoch=steps_per_epoch,\n",
    "    validation_data=iterate_minibatches(data_val, batch_size, cycle=True),\n",
    "    validation_steps=data_val.shape[0] // batch_size,\n",
    "    callbacks=[early_stop, checkpoint]\n",
    ")\n",
    "plot_history(dense_history)"
   ]
  }
 ],
 "metadata": {
  "kernelspec": {
   "display_name": "Python 3",
   "language": "python",
   "name": "python3"
  },
  "language_info": {
   "codemirror_mode": {
    "name": "ipython",
    "version": 3
   },
   "file_extension": ".py",
   "mimetype": "text/x-python",
   "name": "python",
   "nbconvert_exporter": "python",
   "pygments_lexer": "ipython3",
   "version": "3.8.3"
  }
 },
 "nbformat": 4,
 "nbformat_minor": 4
}
